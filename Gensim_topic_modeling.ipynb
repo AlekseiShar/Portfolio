{
 "cells": [
  {
   "cell_type": "code",
   "execution_count": 1,
   "metadata": {
    "id": "pvHQQRVnSjwT"
   },
   "outputs": [
    {
     "ename": "ModuleNotFoundError",
     "evalue": "No module named 'pyLDAvis'",
     "output_type": "error",
     "traceback": [
      "\u001b[1;31m---------------------------------------------------------------------------\u001b[0m",
      "\u001b[1;31mModuleNotFoundError\u001b[0m                       Traceback (most recent call last)",
      "\u001b[1;32m<ipython-input-1-59e6f088b7d1>\u001b[0m in \u001b[0;36m<module>\u001b[1;34m\u001b[0m\n\u001b[0;32m     14\u001b[0m \u001b[1;32mfrom\u001b[0m \u001b[0mnltk\u001b[0m\u001b[1;33m.\u001b[0m\u001b[0mstem\u001b[0m \u001b[1;32mimport\u001b[0m \u001b[0mWordNetLemmatizer\u001b[0m\u001b[1;33m\u001b[0m\u001b[1;33m\u001b[0m\u001b[0m\n\u001b[0;32m     15\u001b[0m \u001b[1;32mfrom\u001b[0m \u001b[0mgensim\u001b[0m\u001b[1;33m.\u001b[0m\u001b[0mmodels\u001b[0m \u001b[1;32mimport\u001b[0m \u001b[0mPhrases\u001b[0m\u001b[1;33m\u001b[0m\u001b[1;33m\u001b[0m\u001b[0m\n\u001b[1;32m---> 16\u001b[1;33m \u001b[1;32mimport\u001b[0m \u001b[0mpyLDAvis\u001b[0m\u001b[1;33m\u001b[0m\u001b[1;33m\u001b[0m\u001b[0m\n\u001b[0m\u001b[0;32m     17\u001b[0m \u001b[1;32mimport\u001b[0m \u001b[0mpyLDAvis\u001b[0m\u001b[1;33m.\u001b[0m\u001b[0mgensim_models\u001b[0m\u001b[1;33m\u001b[0m\u001b[1;33m\u001b[0m\u001b[0m\n",
      "\u001b[1;31mModuleNotFoundError\u001b[0m: No module named 'pyLDAvis'"
     ]
    }
   ],
   "source": [
    "# import modules\n",
    "import pandas as pd\n",
    "import numpy as np \n",
    "import matplotlib.pyplot as plt\n",
    "import seaborn as sns \n",
    "from sklearn.datasets import fetch_20newsgroups\n",
    "import nltk\n",
    "import gensim  \n",
    "from gensim import models \n",
    "from gensim.corpora.dictionary import Dictionary \n",
    "from gensim.models import CoherenceModel \n",
    "from gensim import corpora \n",
    "from nltk.corpus import stopwords\n",
    "from nltk.stem import WordNetLemmatizer\n",
    "from gensim.models import Phrases\n",
    "import pyLDAvis \n",
    "import pyLDAvis.gensim_models"
   ]
  },
  {
   "cell_type": "code",
   "execution_count": null,
   "metadata": {
    "colab": {
     "base_uri": "https://localhost:8080/"
    },
    "id": "ydvrPywjkAli",
    "outputId": "94e49f80-d349-4427-d62e-fe816bc33805"
   },
   "outputs": [],
   "source": [
    "nltk.download('stopwords')\n",
    "nltk.download('wordnet')\n",
    "nltk.download('omw-1.4')"
   ]
  },
  {
   "cell_type": "code",
   "execution_count": null,
   "metadata": {
    "colab": {
     "base_uri": "https://localhost:8080/"
    },
    "id": "fyK-A5F0n9J9",
    "outputId": "18f9e664-22bf-406b-809f-943054b28a93"
   },
   "outputs": [
    {
     "data": {
      "text/plain": [
       "11314"
      ]
     },
     "execution_count": 5,
     "metadata": {},
     "output_type": "execute_result"
    }
   ],
   "source": [
    "# read the text data\n",
    "newsgroups_train = fetch_20newsgroups(subset='train').data\n",
    "len(newsgroups_train)"
   ]
  },
  {
   "cell_type": "code",
   "execution_count": null,
   "metadata": {
    "colab": {
     "base_uri": "https://localhost:8080/"
    },
    "id": "Fb4jlpWWio4F",
    "outputId": "428f115c-a4c7-40dc-d39e-d865623a3b3f"
   },
   "outputs": [
    {
     "data": {
      "text/plain": [
       "7532"
      ]
     },
     "execution_count": 6,
     "metadata": {},
     "output_type": "execute_result"
    }
   ],
   "source": [
    "newsgroups_test = fetch_20newsgroups(subset='test').data\n",
    "len(newsgroups_test)"
   ]
  },
  {
   "cell_type": "code",
   "execution_count": null,
   "metadata": {
    "colab": {
     "base_uri": "https://localhost:8080/"
    },
    "id": "sQ7c07GulIs6",
    "outputId": "59b109e2-c4da-4894-a856-d0f450e5aa36"
   },
   "outputs": [
    {
     "data": {
      "text/plain": [
       "[\"From: lerxst@wam.umd.edu (where's my thing)\\nSubject: WHAT car is this!?\\nNntp-Posting-Host: rac3.wam.umd.edu\\nOrganization: University of Maryland, College Park\\nLines: 15\\n\\n I was wondering if anyone out there could enlighten me on this car I saw\\nthe other day. It was a 2-door sports car, looked to be from the late 60s/\\nearly 70s. It was called a Bricklin. The doors were really small. In addition,\\nthe front bumper was separate from the rest of the body. This is \\nall I know. If anyone can tellme a model name, engine specs, years\\nof production, where this car is made, history, or whatever info you\\nhave on this funky looking car, please e-mail.\\n\\nThanks,\\n- IL\\n   ---- brought to you by your neighborhood Lerxst ----\\n\\n\\n\\n\\n\",\n",
       " \"From: guykuo@carson.u.washington.edu (Guy Kuo)\\nSubject: SI Clock Poll - Final Call\\nSummary: Final call for SI clock reports\\nKeywords: SI,acceleration,clock,upgrade\\nArticle-I.D.: shelley.1qvfo9INNc3s\\nOrganization: University of Washington\\nLines: 11\\nNNTP-Posting-Host: carson.u.washington.edu\\n\\nA fair number of brave souls who upgraded their SI clock oscillator have\\nshared their experiences for this poll. Please send a brief message detailing\\nyour experiences with the procedure. Top speed attained, CPU rated speed,\\nadd on cards and adapters, heat sinks, hour of usage per day, floppy disk\\nfunctionality with 800 and 1.4 m floppies are especially requested.\\n\\nI will be summarizing in the next two days, so please add to the network\\nknowledge base if you have done the clock upgrade and haven't answered this\\npoll. Thanks.\\n\\nGuy Kuo <guykuo@u.washington.edu>\\n\"]"
      ]
     },
     "execution_count": 7,
     "metadata": {},
     "output_type": "execute_result"
    }
   ],
   "source": [
    "# check the text data\n",
    "newsgroups_train[:2]"
   ]
  },
  {
   "cell_type": "markdown",
   "metadata": {
    "id": "IARnK3JI9HXV"
   },
   "source": [
    "# Tokenize data"
   ]
  },
  {
   "cell_type": "code",
   "execution_count": null,
   "metadata": {
    "id": "YCbtq4JXlIr6"
   },
   "outputs": [],
   "source": [
    "# tokenize data \n",
    "word_tokenize = \\\n",
    "[gensim.utils.simple_preprocess(word, min_len=3) for word in newsgroups_train]\n",
    "# keep only alphabetical characters\n",
    "clean_tokens = \\\n",
    "[[word for word in doc if word.isalpha()] for doc in word_tokenize]\n",
    "# remove stop words\n",
    "no_stops = \\\n",
    "[[t for t in doc if t not in stopwords.words(\"english\")] for doc in clean_tokens]\n",
    "# instantiate WordNetLemmatizer\n",
    "lem = WordNetLemmatizer()\n",
    "# lemmatize tokens \n",
    "lemmatized = [[lem.lemmatize(t) for t in doc] for doc in no_stops]\n",
    "# compute bigrams \n",
    "bigram = Phrases(lemmatized, min_count=20, threshold=100)\n",
    "trigram = Phrases(bigram[lemmatized], threshold=100)\n",
    "for ind, elem in enumerate(lemmatized):\n",
    "  for token in bigram[lemmatized][ind]:\n",
    "    if \"_\" in token:\n",
    "      lemmatized[ind].append(token)\n",
    "  for token in trigram[lemmatized][ind]:\n",
    "    if \"_\" in token:\n",
    "      lemmatized[ind].append(token)"
   ]
  },
  {
   "cell_type": "markdown",
   "metadata": {
    "id": "XcFPSiG69QY9"
   },
   "source": [
    "# Create corpus"
   ]
  },
  {
   "cell_type": "code",
   "execution_count": null,
   "metadata": {
    "id": "ASGPf0LC4lKu"
   },
   "outputs": [],
   "source": [
    "# create dictionary\n",
    "dictionary = corpora.Dictionary(lemmatized)\n",
    "# filter out non frequent words and too frequent words \n",
    "dictionary.filter_extremes(no_below=20, no_above=.5)\n",
    "corpus = [dictionary.doc2bow(text) for text in lemmatized]"
   ]
  },
  {
   "cell_type": "markdown",
   "metadata": {
    "id": "uyM_PZWl9eN4"
   },
   "source": [
    "# Number of topics"
   ]
  },
  {
   "cell_type": "code",
   "execution_count": null,
   "metadata": {
    "id": "8RqxrHoc9h1u"
   },
   "outputs": [],
   "source": [
    "# compute coherence value for different topic numbers\n",
    "cherence_lda = []\n",
    "for v in range(10, 25, 1):\n",
    "  ldamodel = models.LdaModel(corpus, \n",
    "                             num_topics=v, \n",
    "                             id2word=dictionary, \n",
    "                             passes=100)\n",
    "  coherence_model = \\\n",
    "  CoherenceModel(model=ldamodel, texts=lemmatized, \n",
    "                 dictionary=dictionary, coherence='c_v')\n",
    "  coherence_value = coherence_model.get_coherence()\n",
    "  cherence_lda.append(coherence_value)"
   ]
  },
  {
   "cell_type": "code",
   "execution_count": null,
   "metadata": {
    "colab": {
     "base_uri": "https://localhost:8080/",
     "height": 350
    },
    "id": "e3hksYwg-qiJ",
    "outputId": "4286c6ff-6e56-492f-d053-21efa6174518"
   },
   "outputs": [
    {
     "data": {
      "image/png": "[encoded data removed]",
      "text/plain": [
       "<Figure size 576x360 with 1 Axes>"
      ]
     },
     "metadata": {
      "needs_background": "light"
     },
     "output_type": "display_data"
    }
   ],
   "source": [
    "# visualize coherence values vs number of topics\n",
    "plt.figure(figsize=(8, 5))\n",
    "sns.pointplot(x=list(range(10, 25, 1)), y=cherence_lda)\n",
    "plt.xlabel(\"Number of topics\")\n",
    "plt.ylabel(\"Coherence value\")\n",
    "plt.title(\"Coherence vs topic number\")\n",
    "plt.show()"
   ]
  },
  {
   "cell_type": "markdown",
   "metadata": {
    "id": "N0TrNUeRzcgy"
   },
   "source": [
    "We can clearly see that the model with 19 topics has the highest Coherence score. Train the model with 19 topics."
   ]
  },
  {
   "cell_type": "markdown",
   "metadata": {
    "id": "1MMGGO7l-TGu"
   },
   "source": [
    "# LDA model"
   ]
  },
  {
   "cell_type": "code",
   "execution_count": null,
   "metadata": {
    "id": "28Bo6kj08pD2"
   },
   "outputs": [],
   "source": [
    "# LDA model with 19 topics\n",
    "ldamodel = models.LdaModel(corpus, \n",
    "                           num_topics=19, \n",
    "                           id2word=dictionary, \n",
    "                           passes=50, \n",
    "                           eval_every=None, \n",
    "                           alpha='auto', \n",
    "                           eta='auto', \n",
    "                           chunksize=1000, \n",
    "                           iterations=200)"
   ]
  },
  {
   "cell_type": "code",
   "execution_count": null,
   "metadata": {
    "colab": {
     "base_uri": "https://localhost:8080/"
    },
    "id": "NcnjpK6O_fKG",
    "outputId": "58d890e8-864b-4277-c591-9cb197f6bfb6"
   },
   "outputs": [
    {
     "data": {
      "text/plain": [
       "[(0,\n",
       "  '0.045*\"space\" + 0.038*\"nasa\" + 0.035*\"gov\" + 0.013*\"jpl_nasa\" + 0.010*\"local_bus\" + 0.010*\"space_shuttle\" + 0.010*\"launch\" + 0.010*\"moon\" + 0.010*\"prism_gatech\" + 0.009*\"henry\" + 0.009*\"jpl\" + 0.009*\"article\" + 0.009*\"shuttle\" + 0.009*\"orbit\" + 0.008*\"space_station\"'),\n",
       " (1,\n",
       "  '0.024*\"andrew_cmu\" + 0.019*\"hockey\" + 0.018*\"uiuc\" + 0.018*\"andrew\" + 0.016*\"university_illinois\" + 0.015*\"article\" + 0.014*\"university\" + 0.013*\"cmu\" + 0.011*\"cso\" + 0.010*\"colorado\" + 0.008*\"frank\" + 0.008*\"illinois\" + 0.008*\"cso_uiuc\" + 0.007*\"carnegie_mellon\" + 0.007*\"sgi\"'),\n",
       " (2,\n",
       "  '0.014*\"wire\" + 0.013*\"power\" + 0.011*\"purdue\" + 0.011*\"ecn_purdue\" + 0.011*\"ground\" + 0.010*\"circuit\" + 0.010*\"power_supply\" + 0.009*\"signal\" + 0.009*\"input\" + 0.008*\"mil\" + 0.008*\"university\" + 0.008*\"navy\" + 0.008*\"supply\" + 0.008*\"get_rid\" + 0.008*\"use\"'),\n",
       " (3,\n",
       "  '0.023*\"armenian\" + 0.014*\"turkish\" + 0.011*\"war\" + 0.010*\"stanley_cup\" + 0.010*\"people\" + 0.009*\"greek\" + 0.008*\"turk\" + 0.007*\"freenet_carleton\" + 0.007*\"turkey\" + 0.007*\"said\" + 0.007*\"armenia\" + 0.007*\"jew\" + 0.006*\"serdar_argic\" + 0.006*\"nazi\" + 0.006*\"world\"'),\n",
       " (4,\n",
       "  '0.214*\"max\" + 0.026*\"video_card\" + 0.024*\"access_unix\" + 0.018*\"clayton_cramer\" + 0.018*\"rochester\" + 0.017*\"gay\" + 0.016*\"homosexual\" + 0.015*\"iastate\" + 0.014*\"cramer\" + 0.013*\"virginia\" + 0.012*\"cramer_optilink\" + 0.011*\"com\" + 0.011*\"optilink\" + 0.011*\"marriage\" + 0.010*\"simms\"'),\n",
       " (5,\n",
       "  '0.026*\"new_york\" + 0.019*\"united_state\" + 0.016*\"new\" + 0.015*\"year\" + 0.013*\"president\" + 0.012*\"state\" + 0.011*\"american\" + 0.010*\"april\" + 0.010*\"york\" + 0.007*\"university\" + 0.007*\"united\" + 0.007*\"city\" + 0.006*\"program\" + 0.006*\"press\" + 0.006*\"national\"'),\n",
       " (6,\n",
       "  '0.013*\"key\" + 0.010*\"gun\" + 0.010*\"government\" + 0.009*\"law\" + 0.006*\"law_enforcement\" + 0.006*\"clipper_chip\" + 0.006*\"public\" + 0.006*\"state\" + 0.006*\"right\" + 0.006*\"chip\" + 0.006*\"com\" + 0.006*\"system\" + 0.006*\"use\" + 0.006*\"encryption\" + 0.005*\"serial_number\"'),\n",
       " (7,\n",
       "  '0.108*\"nntp_posting\" + 0.042*\"posting\" + 0.038*\"host\" + 0.036*\"nntp\" + 0.029*\"com\" + 0.024*\"university\" + 0.020*\"distribution_world\" + 0.015*\"article\" + 0.012*\"distribution\" + 0.012*\"newsreader_tin\" + 0.011*\"thanks\" + 0.010*\"anyone\" + 0.010*\"reply\" + 0.010*\"computer_science\" + 0.009*\"apr\"'),\n",
       " (8,\n",
       "  '0.022*\"com\" + 0.010*\"health\" + 0.009*\"netcom\" + 0.008*\"article\" + 0.007*\"child\" + 0.007*\"use\" + 0.007*\"health_care\" + 0.007*\"insurance\" + 0.007*\"medical\" + 0.007*\"disease\" + 0.007*\"service\" + 0.006*\"communication_service\" + 0.006*\"patient\" + 0.005*\"study\" + 0.005*\"case\"'),\n",
       " (9,\n",
       "  '0.016*\"would\" + 0.014*\"one\" + 0.012*\"like\" + 0.011*\"get\" + 0.010*\"think\" + 0.010*\"time\" + 0.010*\"know\" + 0.009*\"people\" + 0.007*\"good\" + 0.007*\"thing\" + 0.007*\"well\" + 0.007*\"say\" + 0.006*\"make\" + 0.006*\"much\" + 0.006*\"year\"'),\n",
       " (10,\n",
       "  '0.037*\"game\" + 0.033*\"team\" + 0.019*\"player\" + 0.015*\"play\" + 0.014*\"win\" + 0.013*\"season\" + 0.012*\"los_angeles\" + 0.011*\"year\" + 0.010*\"league\" + 0.009*\"san_jose\" + 0.009*\"san_francisco\" + 0.009*\"nhl\" + 0.009*\"caltech\" + 0.009*\"keith\" + 0.008*\"goal\"'),\n",
       " (11,\n",
       "  '0.023*\"god\" + 0.011*\"christian\" + 0.011*\"one\" + 0.011*\"people\" + 0.008*\"jesus\" + 0.008*\"say\" + 0.007*\"believe\" + 0.007*\"would\" + 0.006*\"bible\" + 0.006*\"evidence\" + 0.006*\"religion\" + 0.005*\"life\" + 0.005*\"think\" + 0.005*\"church\" + 0.005*\"question\"'),\n",
       " (12,\n",
       "  '0.031*\"com\" + 0.027*\"bike\" + 0.026*\"cleveland_freenet\" + 0.019*\"dod\" + 0.014*\"article\" + 0.012*\"msg\" + 0.012*\"dog\" + 0.011*\"apr\" + 0.011*\"motorcycle\" + 0.010*\"bnr\" + 0.010*\"thu_apr\" + 0.010*\"ride\" + 0.009*\"freenet\" + 0.009*\"score\" + 0.008*\"rec\"'),\n",
       " (13,\n",
       "  '0.044*\"distribution_usa\" + 0.026*\"car\" + 0.019*\"sale\" + 0.017*\"usa\" + 0.015*\"new\" + 0.014*\"distribution\" + 0.014*\"price\" + 0.014*\"com\" + 0.009*\"nasa_gov\" + 0.009*\"engine\" + 0.008*\"offer\" + 0.008*\"hewlett_packard\" + 0.007*\"sell\" + 0.007*\"vax\" + 0.007*\"dealer\"'),\n",
       " (14,\n",
       "  '0.019*\"drive\" + 0.011*\"card\" + 0.011*\"system\" + 0.010*\"problem\" + 0.009*\"bit\" + 0.009*\"com\" + 0.008*\"use\" + 0.008*\"driver\" + 0.007*\"disk\" + 0.007*\"work\" + 0.006*\"mac\" + 0.006*\"access_digex\" + 0.006*\"one\" + 0.006*\"access\" + 0.005*\"color\"'),\n",
       " (15,\n",
       "  '0.064*\"com\" + 0.025*\"sun\" + 0.023*\"ibm\" + 0.018*\"opinion_expressed\" + 0.017*\"austin_ibm\" + 0.015*\"article\" + 0.015*\"utexas\" + 0.014*\"austin\" + 0.013*\"midway_uchicago\" + 0.012*\"informatik_uni\" + 0.012*\"reply\" + 0.012*\"uni\" + 0.011*\"uchicago\" + 0.011*\"standard_disclaimer\" + 0.011*\"east_sun\"'),\n",
       " (16,\n",
       "  '0.031*\"apr_gmt\" + 0.030*\"israel\" + 0.025*\"israeli\" + 0.016*\"arab\" + 0.016*\"apr\" + 0.015*\"cwru\" + 0.013*\"san_diego\" + 0.011*\"case_western\" + 0.011*\"article\" + 0.011*\"cleveland\" + 0.011*\"reserve_university\" + 0.011*\"gmt\" + 0.010*\"athena_mit\" + 0.009*\"case\" + 0.008*\"public_domain\"'),\n",
       " (17,\n",
       "  '0.009*\"window_manager\" + 0.008*\"motif\" + 0.008*\"com\" + 0.007*\"widget\" + 0.007*\"mit\" + 0.006*\"function\" + 0.006*\"system\" + 0.006*\"manager\" + 0.006*\"event\" + 0.006*\"byte\" + 0.005*\"stratus\" + 0.005*\"satellite\" + 0.004*\"columbia\" + 0.004*\"earth\" + 0.004*\"vice_president\"'),\n",
       " (18,\n",
       "  '0.026*\"file\" + 0.023*\"window\" + 0.016*\"program\" + 0.010*\"available\" + 0.010*\"use\" + 0.009*\"image\" + 0.008*\"information\" + 0.008*\"version\" + 0.008*\"server\" + 0.008*\"user\" + 0.007*\"software\" + 0.007*\"source\" + 0.007*\"ftp\" + 0.007*\"graphic\" + 0.007*\"also\"')]"
      ]
     },
     "execution_count": 27,
     "metadata": {},
     "output_type": "execute_result"
    }
   ],
   "source": [
    "# print topics\n",
    "ldamodel.print_topics(num_words=15)"
   ]
  },
  {
   "cell_type": "markdown",
   "metadata": {
    "id": "HcmUvFY28K-s"
   },
   "source": [
    "# Assign topics to the original data"
   ]
  },
  {
   "cell_type": "code",
   "execution_count": null,
   "metadata": {
    "id": "gvikVK1d8R2M"
   },
   "outputs": [],
   "source": [
    "# create DF with topics and probability scores for each text\n",
    "topic_details = pd.DataFrame()\n",
    "for i, row in enumerate(ldamodel[corpus]):\n",
    "  row = sorted(row, key=lambda x: (x[1]), reverse=True)\n",
    "  for j, (topic_num, prop_topic) in enumerate(row):\n",
    "    if j==0:\n",
    "      topic_details = topic_details.append(\n",
    "          pd.Series([topic_num, prop_topic]), ignore_index=True\n",
    "      )\n",
    "topic_details.columns=[\"Topics\", \"% Score\"]"
   ]
  },
  {
   "cell_type": "code",
   "execution_count": null,
   "metadata": {
    "id": "3v7cq97kAN8E"
   },
   "outputs": [],
   "source": [
    "# assign tokens and original texts to the topics\n",
    "topic_details.loc[:, 'Tokens'] = np.array(lemmatized, dtype='object')\n",
    "topic_details.loc[:, 'Original text'] = newsgroups_train"
   ]
  },
  {
   "cell_type": "code",
   "execution_count": null,
   "metadata": {
    "colab": {
     "base_uri": "https://localhost:8080/",
     "height": 281
    },
    "id": "AhP-v2ZtAz6T",
    "outputId": "cb62da3c-a108-4357-d4a7-f4f470335fdc"
   },
   "outputs": [
    {
     "data": {
      "text/html": [
       "\n",
       "  <div id=\"df-98e9357d-af2c-470a-a82f-6080e35ecd30\">\n",
       "    <div class=\"colab-df-container\">\n",
       "      <div>\n",
       "<style scoped>\n",
       "    .dataframe tbody tr th:only-of-type {\n",
       "        vertical-align: middle;\n",
       "    }\n",
       "\n",
       "    .dataframe tbody tr th {\n",
       "        vertical-align: top;\n",
       "    }\n",
       "\n",
       "    .dataframe thead th {\n",
       "        text-align: right;\n",
       "    }\n",
       "</style>\n",
       "<table border=\"1\" class=\"dataframe\">\n",
       "  <thead>\n",
       "    <tr style=\"text-align: right;\">\n",
       "      <th></th>\n",
       "      <th>Topics</th>\n",
       "      <th>% Score</th>\n",
       "      <th>Tokens</th>\n",
       "      <th>Original text</th>\n",
       "    </tr>\n",
       "  </thead>\n",
       "  <tbody>\n",
       "    <tr>\n",
       "      <th>40</th>\n",
       "      <td>9.0</td>\n",
       "      <td>0.356886</td>\n",
       "      <td>[sean, garrison, subject, bonilla, nntp, posti...</td>\n",
       "      <td>From:  (Sean Garrison)\\nSubject: Re: Bonilla\\n...</td>\n",
       "    </tr>\n",
       "    <tr>\n",
       "      <th>41</th>\n",
       "      <td>7.0</td>\n",
       "      <td>0.510100</td>\n",
       "      <td>[root, ncube, com, operator, subject, fax, mod...</td>\n",
       "      <td>From: root@ncube.com (Operator)\\nSubject: Re: ...</td>\n",
       "    </tr>\n",
       "    <tr>\n",
       "      <th>42</th>\n",
       "      <td>14.0</td>\n",
       "      <td>0.367355</td>\n",
       "      <td>[cleveland, freenet, edu, sam, latonia, subjec...</td>\n",
       "      <td>From: ab245@cleveland.Freenet.Edu (Sam Latonia...</td>\n",
       "    </tr>\n",
       "    <tr>\n",
       "      <th>43</th>\n",
       "      <td>9.0</td>\n",
       "      <td>0.290688</td>\n",
       "      <td>[paul, csd, csd, uwm, edu, paul, krueger, subj...</td>\n",
       "      <td>From: paul@csd4.csd.uwm.edu (Paul R Krueger)\\n...</td>\n",
       "    </tr>\n",
       "    <tr>\n",
       "      <th>44</th>\n",
       "      <td>9.0</td>\n",
       "      <td>0.313854</td>\n",
       "      <td>[cmeyer, bloch, stanford, edu, craig, meyer, s...</td>\n",
       "      <td>From: cmeyer@bloch.Stanford.EDU (Craig Meyer)\\...</td>\n",
       "    </tr>\n",
       "    <tr>\n",
       "      <th>45</th>\n",
       "      <td>1.0</td>\n",
       "      <td>0.425725</td>\n",
       "      <td>[robert, everett, brunskill, andrew, cmu, edu,...</td>\n",
       "      <td>From: Robert Everett Brunskill &lt;rb6t+@andrew.c...</td>\n",
       "    </tr>\n",
       "  </tbody>\n",
       "</table>\n",
       "</div>\n",
       "      <button class=\"colab-df-convert\" onclick=\"convertToInteractive('df-98e9357d-af2c-470a-a82f-6080e35ecd30')\"\n",
       "              title=\"Convert this dataframe to an interactive table.\"\n",
       "              style=\"display:none;\">\n",
       "        \n",
       "  <svg xmlns=\"http://www.w3.org/2000/svg\" height=\"24px\"viewBox=\"0 0 24 24\"\n",
       "       width=\"24px\">\n",
       "    <path d=\"M0 0h24v24H0V0z\" fill=\"none\"/>\n",
       "    <path d=\"M18.56 5.44l.94 2.06.94-2.06 2.06-.94-2.06-.94-.94-2.06-.94 2.06-2.06.94zm-11 1L8.5 8.5l.94-2.06 2.06-.94-2.06-.94L8.5 2.5l-.94 2.06-2.06.94zm10 10l.94 2.06.94-2.06 2.06-.94-2.06-.94-.94-2.06-.94 2.06-2.06.94z\"/><path d=\"M17.41 7.96l-1.37-1.37c-.4-.4-.92-.59-1.43-.59-.52 0-1.04.2-1.43.59L10.3 9.45l-7.72 7.72c-.78.78-.78 2.05 0 2.83L4 21.41c.39.39.9.59 1.41.59.51 0 1.02-.2 1.41-.59l7.78-7.78 2.81-2.81c.8-.78.8-2.07 0-2.86zM5.41 20L4 18.59l7.72-7.72 1.47 1.35L5.41 20z\"/>\n",
       "  </svg>\n",
       "      </button>\n",
       "      \n",
       "  <style>\n",
       "    .colab-df-container {\n",
       "      display:flex;\n",
       "      flex-wrap:wrap;\n",
       "      gap: 12px;\n",
       "    }\n",
       "\n",
       "    .colab-df-convert {\n",
       "      background-color: #E8F0FE;\n",
       "      border: none;\n",
       "      border-radius: 50%;\n",
       "      cursor: pointer;\n",
       "      display: none;\n",
       "      fill: #1967D2;\n",
       "      height: 32px;\n",
       "      padding: 0 0 0 0;\n",
       "      width: 32px;\n",
       "    }\n",
       "\n",
       "    .colab-df-convert:hover {\n",
       "      background-color: #E2EBFA;\n",
       "      box-shadow: 0px 1px 2px rgba(60, 64, 67, 0.3), 0px 1px 3px 1px rgba(60, 64, 67, 0.15);\n",
       "      fill: #174EA6;\n",
       "    }\n",
       "\n",
       "    [theme=dark] .colab-df-convert {\n",
       "      background-color: #3B4455;\n",
       "      fill: #D2E3FC;\n",
       "    }\n",
       "\n",
       "    [theme=dark] .colab-df-convert:hover {\n",
       "      background-color: #434B5C;\n",
       "      box-shadow: 0px 1px 3px 1px rgba(0, 0, 0, 0.15);\n",
       "      filter: drop-shadow(0px 1px 2px rgba(0, 0, 0, 0.3));\n",
       "      fill: #FFFFFF;\n",
       "    }\n",
       "  </style>\n",
       "\n",
       "      <script>\n",
       "        const buttonEl =\n",
       "          document.querySelector('#df-98e9357d-af2c-470a-a82f-6080e35ecd30 button.colab-df-convert');\n",
       "        buttonEl.style.display =\n",
       "          google.colab.kernel.accessAllowed ? 'block' : 'none';\n",
       "\n",
       "        async function convertToInteractive(key) {\n",
       "          const element = document.querySelector('#df-98e9357d-af2c-470a-a82f-6080e35ecd30');\n",
       "          const dataTable =\n",
       "            await google.colab.kernel.invokeFunction('convertToInteractive',\n",
       "                                                     [key], {});\n",
       "          if (!dataTable) return;\n",
       "\n",
       "          const docLinkHtml = 'Like what you see? Visit the ' +\n",
       "            '<a target=\"_blank\" href=https://colab.research.google.com/notebooks/data_table.ipynb>data table notebook</a>'\n",
       "            + ' to learn more about interactive tables.';\n",
       "          element.innerHTML = '';\n",
       "          dataTable['output_type'] = 'display_data';\n",
       "          await google.colab.output.renderOutput(dataTable, element);\n",
       "          const docLink = document.createElement('div');\n",
       "          docLink.innerHTML = docLinkHtml;\n",
       "          element.appendChild(docLink);\n",
       "        }\n",
       "      </script>\n",
       "    </div>\n",
       "  </div>\n",
       "  "
      ],
      "text/plain": [
       "    Topics   % Score                                             Tokens  \\\n",
       "40     9.0  0.356886  [sean, garrison, subject, bonilla, nntp, posti...   \n",
       "41     7.0  0.510100  [root, ncube, com, operator, subject, fax, mod...   \n",
       "42    14.0  0.367355  [cleveland, freenet, edu, sam, latonia, subjec...   \n",
       "43     9.0  0.290688  [paul, csd, csd, uwm, edu, paul, krueger, subj...   \n",
       "44     9.0  0.313854  [cmeyer, bloch, stanford, edu, craig, meyer, s...   \n",
       "45     1.0  0.425725  [robert, everett, brunskill, andrew, cmu, edu,...   \n",
       "\n",
       "                                        Original text  \n",
       "40  From:  (Sean Garrison)\\nSubject: Re: Bonilla\\n...  \n",
       "41  From: root@ncube.com (Operator)\\nSubject: Re: ...  \n",
       "42  From: ab245@cleveland.Freenet.Edu (Sam Latonia...  \n",
       "43  From: paul@csd4.csd.uwm.edu (Paul R Krueger)\\n...  \n",
       "44  From: cmeyer@bloch.Stanford.EDU (Craig Meyer)\\...  \n",
       "45  From: Robert Everett Brunskill <rb6t+@andrew.c...  "
      ]
     },
     "execution_count": 26,
     "metadata": {},
     "output_type": "execute_result"
    }
   ],
   "source": [
    "topic_details.loc[40:45]"
   ]
  }
 ],
 "metadata": {
  "colab": {
   "provenance": []
  },
  "kernelspec": {
   "display_name": "Python 3",
   "language": "python",
   "name": "python3"
  },
  "language_info": {
   "codemirror_mode": {
    "name": "ipython",
    "version": 3
   },
   "file_extension": ".py",
   "mimetype": "text/x-python",
   "name": "python",
   "nbconvert_exporter": "python",
   "pygments_lexer": "ipython3",
   "version": "3.8.5"
  }
 },
 "nbformat": 4,
 "nbformat_minor": 1
}
