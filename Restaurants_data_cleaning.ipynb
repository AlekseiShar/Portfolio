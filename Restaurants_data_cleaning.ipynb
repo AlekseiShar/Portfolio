{
 "cells": [
  {
   "cell_type": "markdown",
   "metadata": {},
   "source": [
    "Aleksei Shokhirev / Portfolio project 4"
   ]
  },
  {
   "cell_type": "markdown",
   "metadata": {},
   "source": [
    "# Restaurant data cleaning"
   ]
  },
  {
   "cell_type": "markdown",
   "metadata": {},
   "source": [
    "We have a dataset containing data on various restaurants.\n",
    "Our goal is to clean that dataset and prepare it for analysis."
   ]
  },
  {
   "cell_type": "code",
   "execution_count": 145,
   "metadata": {},
   "outputs": [],
   "source": [
    "# import modules\n",
    "import pandas as pd\n",
    "import numpy as np\n",
    "import matplotlib.pyplot as plt\n",
    "import missingno as msno\n",
    "from fuzzywuzzy import process\n",
    "import recordlinkage"
   ]
  },
  {
   "cell_type": "code",
   "execution_count": 146,
   "metadata": {},
   "outputs": [
    {
     "name": "stdout",
     "output_type": "stream",
     "text": [
      "dict_keys(['rest', 'rest_new'])\n"
     ]
    }
   ],
   "source": [
    "# import and check dataset\n",
    "df = pd.read_excel('restaurants_1.xlsx', sheet_name=None)\n",
    "print(df.keys())"
   ]
  },
  {
   "cell_type": "code",
   "execution_count": 147,
   "metadata": {},
   "outputs": [
    {
     "data": {
      "text/html": [
       "<div>\n",
       "<style scoped>\n",
       "    .dataframe tbody tr th:only-of-type {\n",
       "        vertical-align: middle;\n",
       "    }\n",
       "\n",
       "    .dataframe tbody tr th {\n",
       "        vertical-align: top;\n",
       "    }\n",
       "\n",
       "    .dataframe thead th {\n",
       "        text-align: right;\n",
       "    }\n",
       "</style>\n",
       "<table border=\"1\" class=\"dataframe\">\n",
       "  <thead>\n",
       "    <tr style=\"text-align: right;\">\n",
       "      <th></th>\n",
       "      <th>Unnamed: 0</th>\n",
       "      <th>Unnamed: 0.1</th>\n",
       "      <th>name</th>\n",
       "      <th>addr</th>\n",
       "      <th>city</th>\n",
       "      <th>phone</th>\n",
       "      <th>cuisine_type</th>\n",
       "      <th>avg_cost_pp</th>\n",
       "    </tr>\n",
       "  </thead>\n",
       "  <tbody>\n",
       "    <tr>\n",
       "      <th>0</th>\n",
       "      <td>0</td>\n",
       "      <td>0</td>\n",
       "      <td>arnie morton's of chicago</td>\n",
       "      <td>435 s. la cienega blv .</td>\n",
       "      <td>los angeles</td>\n",
       "      <td>+(31024)-61501</td>\n",
       "      <td>italian</td>\n",
       "      <td>$50</td>\n",
       "    </tr>\n",
       "    <tr>\n",
       "      <th>1</th>\n",
       "      <td>1</td>\n",
       "      <td>1</td>\n",
       "      <td>art's delicatessen</td>\n",
       "      <td>12224 ventura blvd.</td>\n",
       "      <td>studio city</td>\n",
       "      <td>+8187621221</td>\n",
       "      <td>America</td>\n",
       "      <td>$50</td>\n",
       "    </tr>\n",
       "  </tbody>\n",
       "</table>\n",
       "</div>"
      ],
      "text/plain": [
       "   Unnamed: 0  Unnamed: 0.1                       name  \\\n",
       "0           0             0  arnie morton's of chicago   \n",
       "1           1             1         art's delicatessen   \n",
       "\n",
       "                        addr         city           phone cuisine_type  \\\n",
       "0   435 s. la cienega blv .   los angeles  +(31024)-61501      italian   \n",
       "1       12224 ventura blvd.   studio city     +8187621221      America   \n",
       "\n",
       "  avg_cost_pp  \n",
       "0         $50  \n",
       "1         $50  "
      ]
     },
     "execution_count": 147,
     "metadata": {},
     "output_type": "execute_result"
    }
   ],
   "source": [
    "restaurants = pd.read_excel('restaurants_1.xlsx', sheet_name='rest')\n",
    "restaurants.head(2)"
   ]
  },
  {
   "cell_type": "code",
   "execution_count": 148,
   "metadata": {},
   "outputs": [
    {
     "name": "stdout",
     "output_type": "stream",
     "text": [
      "<class 'pandas.core.frame.DataFrame'>\n",
      "RangeIndex: 340 entries, 0 to 339\n",
      "Data columns (total 8 columns):\n",
      " #   Column        Non-Null Count  Dtype \n",
      "---  ------        --------------  ----- \n",
      " 0   Unnamed: 0    340 non-null    int64 \n",
      " 1   Unnamed: 0.1  340 non-null    int64 \n",
      " 2   name          337 non-null    object\n",
      " 3   addr          340 non-null    object\n",
      " 4   city          340 non-null    object\n",
      " 5   phone         340 non-null    object\n",
      " 6   cuisine_type  340 non-null    object\n",
      " 7   avg_cost_pp   333 non-null    object\n",
      "dtypes: int64(2), object(6)\n",
      "memory usage: 21.4+ KB\n"
     ]
    }
   ],
   "source": [
    "restaurants.info()"
   ]
  },
  {
   "cell_type": "markdown",
   "metadata": {},
   "source": [
    "# String similarity"
   ]
  },
  {
   "cell_type": "markdown",
   "metadata": {},
   "source": [
    "The restaurants data has been collected from many sources and 'cuisine_type' column has a lot of misspelling and typos. It has so many unique categories but should contain nine cuisine types from category list only. We need to remap 'cuisine_type' column using string similarity method. But first, we have to remove spacing and change capitalization."
   ]
  },
  {
   "cell_type": "code",
   "execution_count": 149,
   "metadata": {},
   "outputs": [
    {
     "data": {
      "text/plain": [
       "array(['italian', 'America', 'asian', 'coffeebar', 'mexican', 'Asien',\n",
       "       'southernn     ', 'sothwestern', 'American', 'american',\n",
       "       '   Italien', 'Asia', 'Italia', 'Americen   ', 'italien    ',\n",
       "       'steakhouses', 'americenn', 'mexicen', 'asia', 'southern',\n",
       "       'Mexica      ', 'Asia     ', 'asiann', '   america', '    asian',\n",
       "       'cajun', 'Coffeebar    '], dtype=object)"
      ]
     },
     "execution_count": 149,
     "metadata": {},
     "output_type": "execute_result"
    }
   ],
   "source": [
    "# convert 'cuisine_type' column to category\n",
    "restaurants['cuisine_type'].unique()"
   ]
  },
  {
   "cell_type": "code",
   "execution_count": 150,
   "metadata": {},
   "outputs": [],
   "source": [
    "# change capitalization to lowercase\n",
    "restaurants['cuisine_type'] = restaurants['cuisine_type'].str.lower()\n",
    "# strip white spaces\n",
    "restaurants['cuisine_type'] = restaurants['cuisine_type'].str.strip()"
   ]
  },
  {
   "cell_type": "code",
   "execution_count": 151,
   "metadata": {},
   "outputs": [
    {
     "data": {
      "text/plain": [
       "array(['italian', 'america', 'asian', 'coffeebar', 'mexican', 'asien',\n",
       "       'southernn', 'sothwestern', 'american', 'italien', 'asia',\n",
       "       'italia', 'americen', 'steakhouses', 'americenn', 'mexicen',\n",
       "       'southern', 'mexica', 'asiann', 'cajun'], dtype=object)"
      ]
     },
     "execution_count": 151,
     "metadata": {},
     "output_type": "execute_result"
    }
   ],
   "source": [
    "# check unique categories in 'cuisine_type'\n",
    "unique_categories = restaurants['cuisine_type'].unique()\n",
    "unique_categories"
   ]
  },
  {
   "cell_type": "code",
   "execution_count": 152,
   "metadata": {},
   "outputs": [
    {
     "data": {
      "text/plain": [
       "{'america',\n",
       " 'americen',\n",
       " 'americenn',\n",
       " 'asia',\n",
       " 'asiann',\n",
       " 'asien',\n",
       " 'italia',\n",
       " 'italien',\n",
       " 'mexica',\n",
       " 'mexicen',\n",
       " 'sothwestern',\n",
       " 'southernn'}"
      ]
     },
     "execution_count": 152,
     "metadata": {},
     "output_type": "execute_result"
    }
   ],
   "source": [
    "# find inconsistent categories in 'cuisine_type'\n",
    "categories = ['american', 'asian', 'italian', 'coffeebar', 'mexican', 'southwestern', 'steakhouses', 'southern', 'cajun']\n",
    "inconsistent_category = set(restaurants['cuisine_type']).difference(categories)\n",
    "inconsistent_category"
   ]
  },
  {
   "cell_type": "code",
   "execution_count": 153,
   "metadata": {},
   "outputs": [
    {
     "name": "stdout",
     "output_type": "stream",
     "text": [
      "[('american', 100), ('america', 93), ('americen', 88), ('americenn', 82), ('mexican', 80), ('mexica', 71), ('cajun', 68), ('mexicen', 67), ('asian', 62), ('asiann', 57), ('italian', 53), ('asia', 50), ('asien', 46), ('italia', 43), ('italien', 40), ('southern', 38), ('southernn', 35), ('sothwestern', 32), ('coffeebar', 24), ('steakhouses', 21)]\n",
      "[('asian', 100), ('asiann', 91), ('asia', 89), ('asien', 80), ('italian', 67), ('american', 62), ('italia', 55), ('america', 50), ('mexican', 50), ('italien', 50), ('americen', 46), ('americenn', 43), ('cajun', 40), ('sothwestern', 36), ('mexicen', 33), ('southern', 31), ('southernn', 29), ('coffeebar', 26), ('steakhouses', 25), ('mexica', 18)]\n",
      "[('italian', 100), ('italia', 92), ('italien', 86), ('asia', 68), ('asian', 67), ('asiann', 62), ('mexican', 43), ('american', 40), ('asien', 33), ('cajun', 33), ('mexica', 31), ('america', 29), ('mexicen', 29), ('americen', 27), ('southern', 27), ('sothwestern', 26), ('steakhouses', 26), ('southernn', 25), ('americenn', 25), ('coffeebar', 12)]\n",
      "[('coffeebar', 100), ('sothwestern', 40), ('southern', 35), ('southernn', 33), ('asia', 30), ('mexica', 30), ('cajun', 29), ('asian', 26), ('asien', 26), ('america', 25), ('mexican', 25), ('mexicen', 25), ('american', 24), ('americen', 24), ('americenn', 22), ('asiann', 22), ('steakhouses', 20), ('italia', 18), ('italian', 12), ('italien', 12)]\n",
      "[('mexican', 100), ('mexica', 92), ('mexicen', 86), ('american', 80), ('america', 71), ('americen', 67), ('americenn', 62), ('asian', 50), ('cajun', 50), ('asiann', 46), ('italian', 43), ('asia', 36), ('asien', 33), ('italia', 31), ('italien', 29), ('southern', 27), ('sothwestern', 26), ('steakhouses', 26), ('coffeebar', 25), ('southernn', 25)]\n",
      "[('sothwestern', 96), ('southern', 80), ('southernn', 76), ('asien', 54), ('american', 41), ('americen', 41), ('italien', 39), ('mexicen', 39), ('coffeebar', 38), ('asian', 36), ('asiann', 32), ('america', 30), ('americenn', 29), ('italian', 26), ('mexican', 26), ('steakhouses', 26), ('cajun', 24), ('asia', 22), ('italia', 15), ('mexica', 15)]\n",
      "[('steakhouses', 100), ('southern', 42), ('asien', 40), ('southernn', 40), ('italia', 30), ('mexica', 30), ('asiann', 30), ('sothwestern', 27), ('asia', 27), ('italian', 26), ('america', 26), ('mexican', 26), ('italien', 26), ('asian', 25), ('cajun', 25), ('mexicen', 22), ('american', 21), ('americen', 21), ('coffeebar', 20), ('americenn', 20)]\n",
      "[('southern', 100), ('southernn', 94), ('sothwestern', 74), ('asien', 46), ('steakhouses', 42), ('italien', 40), ('american', 38), ('americen', 38), ('coffeebar', 35), ('americenn', 35), ('asian', 31), ('cajun', 31), ('asiann', 29), ('italian', 27), ('america', 27), ('mexican', 27), ('mexicen', 27), ('asia', 22), ('italia', 14), ('mexica', 14)]\n",
      "[('cajun', 100), ('american', 68), ('mexican', 50), ('americen', 45), ('asian', 40), ('asien', 40), ('americenn', 40), ('mexica', 36), ('asiann', 36), ('italian', 33), ('america', 33), ('italien', 33), ('mexicen', 33), ('southern', 31), ('coffeebar', 29), ('southernn', 29), ('steakhouses', 25), ('asia', 22), ('sothwestern', 18), ('italia', 18)]\n"
     ]
    }
   ],
   "source": [
    "# calculate similarity of cuisine type from the categories list to all values of unique_categories\n",
    "for x in categories:\n",
    "    matches = process.extract(x, unique_categories, limit=len(unique_categories))\n",
    "    print(matches)"
   ]
  },
  {
   "cell_type": "markdown",
   "metadata": {},
   "source": [
    "Cutoff points are following: american 82, asian 80, italian 86, coffeebar 100, mexican 86, southwestern 96, steakhouses 100, southern 94, cajun 100. As we can see, cajun, steakhouses and coffeebar categories are correct. We can group american, italian, mexican, southwestern, southern categories and establish cutoff point = 82 for them. Cutoff point for aisian category = 80. Lets fix those two groups of categories separately."
   ]
  },
  {
   "cell_type": "code",
   "execution_count": 154,
   "metadata": {},
   "outputs": [],
   "source": [
    "# create a list of correct cuisine types for the first group with cutoff point = 82\n",
    "categories_1 = ['american', 'italian', 'mexican', 'southwestern', 'southern']"
   ]
  },
  {
   "cell_type": "code",
   "execution_count": 155,
   "metadata": {},
   "outputs": [],
   "source": [
    "# replace inconsistent cuisine types from 'cuisine_type' column with correct categories from the categories_1 list\n",
    "for cuisine in categories_1:\n",
    "    matches = process.extract(cuisine, restaurants['cuisine_type'], limit=restaurants.shape[0])\n",
    "    for potential_match in matches:\n",
    "        if potential_match[1] >= 82:\n",
    "            restaurants.loc[restaurants['cuisine_type'] == potential_match[0], 'cuisine_type'] = cuisine"
   ]
  },
  {
   "cell_type": "code",
   "execution_count": 156,
   "metadata": {},
   "outputs": [],
   "source": [
    "# fix aisian category\n",
    "matches = process.extract('asian', restaurants['cuisine_type'], limit=restaurants.shape[0])\n",
    "for potential_match in matches:\n",
    "    if potential_match[1] >= 80:\n",
    "        restaurants.loc[restaurants['cuisine_type'] == potential_match[0], 'cuisine_type'] = 'asian'"
   ]
  },
  {
   "cell_type": "code",
   "execution_count": 157,
   "metadata": {},
   "outputs": [
    {
     "data": {
      "text/plain": [
       "array(['italian', 'american', 'asian', 'coffeebar', 'mexican', 'southern',\n",
       "       'southwestern', 'steakhouses', 'cajun'], dtype=object)"
      ]
     },
     "execution_count": 157,
     "metadata": {},
     "output_type": "execute_result"
    }
   ],
   "source": [
    "# check unique categories of 'cuisine_type' column\n",
    "restaurants['cuisine_type'].unique()"
   ]
  },
  {
   "cell_type": "code",
   "execution_count": 158,
   "metadata": {},
   "outputs": [],
   "source": [
    "# convert cuisine_type data to category\n",
    "restaurants['cuisine_type'] = restaurants['cuisine_type'].astype('category')\n",
    "assert restaurants['cuisine_type'].dtype == 'category'"
   ]
  },
  {
   "cell_type": "markdown",
   "metadata": {},
   "source": [
    "# Missing values"
   ]
  },
  {
   "cell_type": "code",
   "execution_count": 159,
   "metadata": {},
   "outputs": [
    {
     "data": {
      "text/plain": [
       "Unnamed: 0      0\n",
       "Unnamed: 0.1    0\n",
       "name            3\n",
       "addr            0\n",
       "city            0\n",
       "phone           0\n",
       "cuisine_type    0\n",
       "avg_cost_pp     7\n",
       "dtype: int64"
      ]
     },
     "execution_count": 159,
     "metadata": {},
     "output_type": "execute_result"
    }
   ],
   "source": [
    "# print numbers of missing values by column\n",
    "restaurants.isna().sum()"
   ]
  },
  {
   "cell_type": "code",
   "execution_count": 160,
   "metadata": {},
   "outputs": [
    {
     "data": {
      "image/png": "[encoded data removed]",
      "text/plain": [
       "<Figure size 1800x720 with 2 Axes>"
      ]
     },
     "metadata": {
      "needs_background": "light"
     },
     "output_type": "display_data"
    }
   ],
   "source": [
    "# plot matrix of missing data\n",
    "msno.matrix(restaurants)\n",
    "plt.show()"
   ]
  },
  {
   "cell_type": "markdown",
   "metadata": {},
   "source": [
    "Missing values are randomly distributed over DataFrame columns without any logic. We have no access to the source of data, so we drop missing values of 'name' column and fix missing data of 'avg_cost_pp' column using statistically estimated value. We calculate mean of avg_cost_pp and replace missing data of 'avg_cost_pp' column with calculated value."
   ]
  },
  {
   "cell_type": "code",
   "execution_count": 161,
   "metadata": {},
   "outputs": [],
   "source": [
    "# drop missing values of 'name' columns\n",
    "restaurants.dropna(subset=['name'], inplace=True)\n",
    "assert restaurants['name'].isna().sum() == 0"
   ]
  },
  {
   "cell_type": "code",
   "execution_count": 162,
   "metadata": {},
   "outputs": [],
   "source": [
    "restaurants['avg_cost_pp'] = restaurants['avg_cost_pp'].str.replace('$', \"\")"
   ]
  },
  {
   "cell_type": "code",
   "execution_count": 163,
   "metadata": {},
   "outputs": [],
   "source": [
    "# isolate missing values\n",
    "restaurants_missing = restaurants[restaurants['avg_cost_pp'].isna()]\n",
    "restaurants_complete = restaurants[~restaurants['avg_cost_pp'].isna()]"
   ]
  },
  {
   "cell_type": "code",
   "execution_count": 164,
   "metadata": {},
   "outputs": [
    {
     "name": "stderr",
     "output_type": "stream",
     "text": [
      "<ipython-input-164-bcfc031ce93f>:2: SettingWithCopyWarning: \n",
      "A value is trying to be set on a copy of a slice from a DataFrame.\n",
      "Try using .loc[row_indexer,col_indexer] = value instead\n",
      "\n",
      "See the caveats in the documentation: https://pandas.pydata.org/pandas-docs/stable/user_guide/indexing.html#returning-a-view-versus-a-copy\n",
      "  restaurants_complete['avg_cost_pp'] = restaurants_complete['avg_cost_pp'].astype('int')\n"
     ]
    }
   ],
   "source": [
    "# convert 'avg_cost_pp' data of restaurants_complete to int\n",
    "restaurants_complete['avg_cost_pp'] = restaurants_complete['avg_cost_pp'].astype('int')"
   ]
  },
  {
   "cell_type": "code",
   "execution_count": 165,
   "metadata": {},
   "outputs": [],
   "source": [
    "assert restaurants_complete['avg_cost_pp'].dtype == 'int'"
   ]
  },
  {
   "cell_type": "code",
   "execution_count": 166,
   "metadata": {},
   "outputs": [
    {
     "data": {
      "text/plain": [
       "83.75757575757575"
      ]
     },
     "execution_count": 166,
     "metadata": {},
     "output_type": "execute_result"
    }
   ],
   "source": [
    "# compute mean of 'avg_cost_pp' column of restaurants_complete\n",
    "mean = restaurants_complete['avg_cost_pp'].mean()\n",
    "mean"
   ]
  },
  {
   "cell_type": "code",
   "execution_count": 167,
   "metadata": {},
   "outputs": [],
   "source": [
    "# inpute the missing values of 'avg_cost_pp' in restaurants DF with estimated mean value\n",
    "restaurants.fillna({'avg_cost_pp':mean}, inplace=True)"
   ]
  },
  {
   "cell_type": "code",
   "execution_count": 168,
   "metadata": {},
   "outputs": [],
   "source": [
    "# convert 'avg_cost_pp' column in restaurants DF to int\n",
    "restaurants['avg_cost_pp'] = restaurants['avg_cost_pp'].astype('int')\n",
    "assert restaurants['avg_cost_pp'].dtype == 'int'"
   ]
  },
  {
   "cell_type": "code",
   "execution_count": 169,
   "metadata": {},
   "outputs": [
    {
     "data": {
      "text/plain": [
       "0"
      ]
     },
     "execution_count": 169,
     "metadata": {},
     "output_type": "execute_result"
    }
   ],
   "source": [
    "# check 'avg_cost_pp' for missing values\n",
    "restaurants['avg_cost_pp'].isna().sum()"
   ]
  },
  {
   "cell_type": "markdown",
   "metadata": {},
   "source": [
    "# Uniqueness constrains"
   ]
  },
  {
   "cell_type": "markdown",
   "metadata": {},
   "source": [
    "Check our restaurants DF for duplicates, drop complete duplicates and fix incomplete ones using grouping and aggregation"
   ]
  },
  {
   "cell_type": "code",
   "execution_count": 170,
   "metadata": {},
   "outputs": [
    {
     "data": {
      "text/html": [
       "<div>\n",
       "<style scoped>\n",
       "    .dataframe tbody tr th:only-of-type {\n",
       "        vertical-align: middle;\n",
       "    }\n",
       "\n",
       "    .dataframe tbody tr th {\n",
       "        vertical-align: top;\n",
       "    }\n",
       "\n",
       "    .dataframe thead th {\n",
       "        text-align: right;\n",
       "    }\n",
       "</style>\n",
       "<table border=\"1\" class=\"dataframe\">\n",
       "  <thead>\n",
       "    <tr style=\"text-align: right;\">\n",
       "      <th></th>\n",
       "      <th>Unnamed: 0</th>\n",
       "      <th>Unnamed: 0.1</th>\n",
       "      <th>name</th>\n",
       "      <th>addr</th>\n",
       "      <th>city</th>\n",
       "      <th>phone</th>\n",
       "      <th>cuisine_type</th>\n",
       "      <th>avg_cost_pp</th>\n",
       "    </tr>\n",
       "  </thead>\n",
       "  <tbody>\n",
       "    <tr>\n",
       "      <th>22</th>\n",
       "      <td>22</td>\n",
       "      <td>22</td>\n",
       "      <td>gramercy tavern</td>\n",
       "      <td>42 e. 20th st. between park ave. s and broadway</td>\n",
       "      <td>new york</td>\n",
       "      <td>+2124770777</td>\n",
       "      <td>american</td>\n",
       "      <td>100</td>\n",
       "    </tr>\n",
       "    <tr>\n",
       "      <th>23</th>\n",
       "      <td>22</td>\n",
       "      <td>22</td>\n",
       "      <td>gramercy tavern</td>\n",
       "      <td>42 e. 20th st. between park ave. s and broadway</td>\n",
       "      <td>new york</td>\n",
       "      <td>+2124770777</td>\n",
       "      <td>american</td>\n",
       "      <td>100</td>\n",
       "    </tr>\n",
       "    <tr>\n",
       "      <th>46</th>\n",
       "      <td>45</td>\n",
       "      <td>45</td>\n",
       "      <td>georgia grille</td>\n",
       "      <td>2290 peachtree rd. . peachtree square shoppin...</td>\n",
       "      <td>atlanta</td>\n",
       "      <td>+4043523517</td>\n",
       "      <td>american</td>\n",
       "      <td>80</td>\n",
       "    </tr>\n",
       "    <tr>\n",
       "      <th>47</th>\n",
       "      <td>45</td>\n",
       "      <td>45</td>\n",
       "      <td>georgia grille</td>\n",
       "      <td>2290 peachtree rd. . peachtree square shoppin...</td>\n",
       "      <td>atlanta</td>\n",
       "      <td>+4043523517</td>\n",
       "      <td>american</td>\n",
       "      <td>80</td>\n",
       "    </tr>\n",
       "    <tr>\n",
       "      <th>100</th>\n",
       "      <td>98</td>\n",
       "      <td>98</td>\n",
       "      <td>trader vic's</td>\n",
       "      <td>9876 wilshire blvd.</td>\n",
       "      <td>los angeles</td>\n",
       "      <td>+3102766345</td>\n",
       "      <td>american</td>\n",
       "      <td>90</td>\n",
       "    </tr>\n",
       "    <tr>\n",
       "      <th>101</th>\n",
       "      <td>98</td>\n",
       "      <td>98</td>\n",
       "      <td>trader vic's</td>\n",
       "      <td>9876 wilshire blvd.</td>\n",
       "      <td>los angeles</td>\n",
       "      <td>+3102766345</td>\n",
       "      <td>american</td>\n",
       "      <td>60</td>\n",
       "    </tr>\n",
       "    <tr>\n",
       "      <th>154</th>\n",
       "      <td>151</td>\n",
       "      <td>151</td>\n",
       "      <td>fleur de jour</td>\n",
       "      <td>348 e. 62nd st.</td>\n",
       "      <td>new york</td>\n",
       "      <td>+2123552020</td>\n",
       "      <td>asian</td>\n",
       "      <td>90</td>\n",
       "    </tr>\n",
       "    <tr>\n",
       "      <th>155</th>\n",
       "      <td>151</td>\n",
       "      <td>151</td>\n",
       "      <td>fleur de jour</td>\n",
       "      <td>348 e. 62nd st.</td>\n",
       "      <td>new york</td>\n",
       "      <td>+2123552020</td>\n",
       "      <td>asian</td>\n",
       "      <td>110</td>\n",
       "    </tr>\n",
       "  </tbody>\n",
       "</table>\n",
       "</div>"
      ],
      "text/plain": [
       "     Unnamed: 0  Unnamed: 0.1             name  \\\n",
       "22           22            22  gramercy tavern   \n",
       "23           22            22  gramercy tavern   \n",
       "46           45            45   georgia grille   \n",
       "47           45            45   georgia grille   \n",
       "100          98            98     trader vic's   \n",
       "101          98            98     trader vic's   \n",
       "154         151           151    fleur de jour   \n",
       "155         151           151    fleur de jour   \n",
       "\n",
       "                                                  addr         city  \\\n",
       "22    42 e. 20th st. between park ave. s and broadway      new york   \n",
       "23    42 e. 20th st. between park ave. s and broadway      new york   \n",
       "46    2290 peachtree rd. . peachtree square shoppin...      atlanta   \n",
       "47    2290 peachtree rd. . peachtree square shoppin...      atlanta   \n",
       "100                               9876 wilshire blvd.   los angeles   \n",
       "101                               9876 wilshire blvd.   los angeles   \n",
       "154                                   348 e. 62nd st.      new york   \n",
       "155                                   348 e. 62nd st.      new york   \n",
       "\n",
       "           phone cuisine_type  avg_cost_pp  \n",
       "22   +2124770777     american          100  \n",
       "23   +2124770777     american          100  \n",
       "46   +4043523517     american           80  \n",
       "47   +4043523517     american           80  \n",
       "100  +3102766345     american           90  \n",
       "101  +3102766345     american           60  \n",
       "154  +2123552020        asian           90  \n",
       "155  +2123552020        asian          110  "
      ]
     },
     "execution_count": 170,
     "metadata": {},
     "output_type": "execute_result"
    }
   ],
   "source": [
    "# find duplicates accross 'name' and 'addr' columns\n",
    "duplicates = restaurants.duplicated(subset=['name', 'addr'], keep=False)\n",
    "restaurants[duplicates]"
   ]
  },
  {
   "cell_type": "code",
   "execution_count": 171,
   "metadata": {},
   "outputs": [],
   "source": [
    "# drop complete duplicates\n",
    "restaurants.drop_duplicates(inplace=True)"
   ]
  },
  {
   "cell_type": "code",
   "execution_count": 172,
   "metadata": {},
   "outputs": [],
   "source": [
    "# drop incomplete duplicates by grouping and aggregation\n",
    "columns = ['name', 'addr', 'city', 'phone', 'cuisine_type']\n",
    "restaurants['cuisine_type'] = restaurants['cuisine_type'].astype('string')\n",
    "restaurants = restaurants.groupby(columns).agg({'avg_cost_pp':'mean'}).reset_index()"
   ]
  },
  {
   "cell_type": "code",
   "execution_count": 173,
   "metadata": {},
   "outputs": [],
   "source": [
    "# find duplicates again and run assert statement to verify de_duplication\n",
    "duplication = restaurants.duplicated(subset=['name', 'addr'], keep=False)\n",
    "assert restaurants[duplication].shape[0] == 0"
   ]
  },
  {
   "cell_type": "markdown",
   "metadata": {},
   "source": [
    "Finally, fix 'phone' column extracting digits only from that column"
   ]
  },
  {
   "cell_type": "code",
   "execution_count": 174,
   "metadata": {},
   "outputs": [
    {
     "data": {
      "text/plain": [
       "0    2129640380\n",
       "1    2125827200\n",
       "2    4154310692\n",
       "Name: phone, dtype: object"
      ]
     },
     "execution_count": 174,
     "metadata": {},
     "output_type": "execute_result"
    }
   ],
   "source": [
    "restaurants['phone'] = restaurants['phone'].str.replace(r'\\D+', \"\")\n",
    "restaurants['phone'].head(3)"
   ]
  },
  {
   "cell_type": "markdown",
   "metadata": {},
   "source": [
    "# Record linkage"
   ]
  },
  {
   "cell_type": "markdown",
   "metadata": {},
   "source": [
    "We clean restaurants DF precisely. But we have new DataFrame named restaurants_new containing data of new restaurants, which has been scraped from new data source. We need to join two DataFrames. There is no common unique identifier between two DFs and duplicates in restaurant`s names are possible. That is why we use record linkage instead of regular join method. "
   ]
  },
  {
   "cell_type": "code",
   "execution_count": 175,
   "metadata": {},
   "outputs": [
    {
     "name": "stdout",
     "output_type": "stream",
     "text": [
      "dict_keys(['rest', 'rest_new'])\n"
     ]
    }
   ],
   "source": [
    "# import data\n",
    "df = pd.read_excel('restaurants_1.xlsx', sheet_name=None)\n",
    "print(df.keys())"
   ]
  },
  {
   "cell_type": "code",
   "execution_count": 176,
   "metadata": {},
   "outputs": [
    {
     "data": {
      "text/html": [
       "<div>\n",
       "<style scoped>\n",
       "    .dataframe tbody tr th:only-of-type {\n",
       "        vertical-align: middle;\n",
       "    }\n",
       "\n",
       "    .dataframe tbody tr th {\n",
       "        vertical-align: top;\n",
       "    }\n",
       "\n",
       "    .dataframe thead th {\n",
       "        text-align: right;\n",
       "    }\n",
       "</style>\n",
       "<table border=\"1\" class=\"dataframe\">\n",
       "  <thead>\n",
       "    <tr style=\"text-align: right;\">\n",
       "      <th></th>\n",
       "      <th>Unnamed: 0</th>\n",
       "      <th>Unnamed: 0.1</th>\n",
       "      <th>name</th>\n",
       "      <th>addr</th>\n",
       "      <th>city</th>\n",
       "      <th>phone</th>\n",
       "      <th>type</th>\n",
       "      <th>avg_cost_pp</th>\n",
       "    </tr>\n",
       "  </thead>\n",
       "  <tbody>\n",
       "    <tr>\n",
       "      <th>0</th>\n",
       "      <td>0</td>\n",
       "      <td>0</td>\n",
       "      <td>kokomo</td>\n",
       "      <td>6333 w. third st.</td>\n",
       "      <td>la</td>\n",
       "      <td>2139330773</td>\n",
       "      <td>american</td>\n",
       "      <td>$50</td>\n",
       "    </tr>\n",
       "    <tr>\n",
       "      <th>1</th>\n",
       "      <td>1</td>\n",
       "      <td>1</td>\n",
       "      <td>feenix</td>\n",
       "      <td>8358 sunset blvd. west</td>\n",
       "      <td>hollywood</td>\n",
       "      <td>2138486677</td>\n",
       "      <td>american</td>\n",
       "      <td>$50</td>\n",
       "    </tr>\n",
       "  </tbody>\n",
       "</table>\n",
       "</div>"
      ],
      "text/plain": [
       "   Unnamed: 0  Unnamed: 0.1    name                      addr       city  \\\n",
       "0           0             0  kokomo         6333 w. third st.         la   \n",
       "1           1             1  feenix   8358 sunset blvd. west   hollywood   \n",
       "\n",
       "        phone      type avg_cost_pp  \n",
       "0  2139330773  american         $50  \n",
       "1  2138486677  american         $50  "
      ]
     },
     "execution_count": 176,
     "metadata": {},
     "output_type": "execute_result"
    }
   ],
   "source": [
    "restaurants_new = pd.read_excel('restaurants_1.xlsx', sheet_name='rest_new')\n",
    "restaurants_new.head(2)"
   ]
  },
  {
   "cell_type": "code",
   "execution_count": 177,
   "metadata": {},
   "outputs": [
    {
     "name": "stdout",
     "output_type": "stream",
     "text": [
      "<class 'pandas.core.frame.DataFrame'>\n",
      "RangeIndex: 82 entries, 0 to 81\n",
      "Data columns (total 8 columns):\n",
      " #   Column        Non-Null Count  Dtype \n",
      "---  ------        --------------  ----- \n",
      " 0   Unnamed: 0    82 non-null     int64 \n",
      " 1   Unnamed: 0.1  82 non-null     int64 \n",
      " 2   name          82 non-null     object\n",
      " 3   addr          82 non-null     object\n",
      " 4   city          82 non-null     object\n",
      " 5   phone         82 non-null     int64 \n",
      " 6   type          82 non-null     object\n",
      " 7   avg_cost_pp   82 non-null     object\n",
      "dtypes: int64(3), object(5)\n",
      "memory usage: 5.2+ KB\n"
     ]
    }
   ],
   "source": [
    "restaurants_new.info()"
   ]
  },
  {
   "cell_type": "code",
   "execution_count": 178,
   "metadata": {},
   "outputs": [
    {
     "data": {
      "text/html": [
       "<div>\n",
       "<style scoped>\n",
       "    .dataframe tbody tr th:only-of-type {\n",
       "        vertical-align: middle;\n",
       "    }\n",
       "\n",
       "    .dataframe tbody tr th {\n",
       "        vertical-align: top;\n",
       "    }\n",
       "\n",
       "    .dataframe thead th {\n",
       "        text-align: right;\n",
       "    }\n",
       "</style>\n",
       "<table border=\"1\" class=\"dataframe\">\n",
       "  <thead>\n",
       "    <tr style=\"text-align: right;\">\n",
       "      <th></th>\n",
       "      <th>Unnamed: 0</th>\n",
       "      <th>Unnamed: 0.1</th>\n",
       "      <th>name</th>\n",
       "      <th>addr</th>\n",
       "      <th>city</th>\n",
       "      <th>phone</th>\n",
       "      <th>type</th>\n",
       "      <th>avg_cost_pp</th>\n",
       "    </tr>\n",
       "  </thead>\n",
       "  <tbody>\n",
       "    <tr>\n",
       "      <th>0</th>\n",
       "      <td>0</td>\n",
       "      <td>0</td>\n",
       "      <td>kokomo</td>\n",
       "      <td>6333 w. third st.</td>\n",
       "      <td>la</td>\n",
       "      <td>2139330773</td>\n",
       "      <td>american</td>\n",
       "      <td>$50</td>\n",
       "    </tr>\n",
       "    <tr>\n",
       "      <th>1</th>\n",
       "      <td>1</td>\n",
       "      <td>1</td>\n",
       "      <td>feenix</td>\n",
       "      <td>8358 sunset blvd. west</td>\n",
       "      <td>hollywood</td>\n",
       "      <td>2138486677</td>\n",
       "      <td>american</td>\n",
       "      <td>$50</td>\n",
       "    </tr>\n",
       "  </tbody>\n",
       "</table>\n",
       "</div>"
      ],
      "text/plain": [
       "   Unnamed: 0  Unnamed: 0.1    name                      addr       city  \\\n",
       "0           0             0  kokomo         6333 w. third st.         la   \n",
       "1           1             1  feenix   8358 sunset blvd. west   hollywood   \n",
       "\n",
       "        phone      type avg_cost_pp  \n",
       "0  2139330773  american         $50  \n",
       "1  2138486677  american         $50  "
      ]
     },
     "execution_count": 178,
     "metadata": {},
     "output_type": "execute_result"
    }
   ],
   "source": [
    "restaurants_new.head(2)"
   ]
  },
  {
   "cell_type": "code",
   "execution_count": 179,
   "metadata": {},
   "outputs": [],
   "source": [
    "# convert data of 'avg_cost_pp' into int\n",
    "restaurants_new['avg_cost_pp'] = restaurants_new['avg_cost_pp'].str.strip('$')\n",
    "restaurants_new['avg_cost_pp'] = restaurants_new['avg_cost_pp'].astype('int')\n",
    "assert restaurants_new['avg_cost_pp'].dtype == 'int'"
   ]
  },
  {
   "cell_type": "code",
   "execution_count": 180,
   "metadata": {},
   "outputs": [],
   "source": [
    "# replace 'la' to 'los angeles' in 'city' column\n",
    "restaurants_new['city'] = restaurants_new['city'].replace({'la':'los angeles'})\n",
    "assert restaurants_new.loc[restaurants_new['city'] == 'la', 'city'].shape[0] == 0"
   ]
  },
  {
   "cell_type": "code",
   "execution_count": 181,
   "metadata": {},
   "outputs": [],
   "source": [
    "restaurants_new['cuisine_type'] = restaurants_new['type']\n",
    "del restaurants_new['type']"
   ]
  },
  {
   "cell_type": "code",
   "execution_count": 182,
   "metadata": {},
   "outputs": [],
   "source": [
    "restaurants_new = restaurants_new[['name', 'addr', 'city', 'phone', 'cuisine_type', 'avg_cost_pp']]"
   ]
  },
  {
   "cell_type": "code",
   "execution_count": 183,
   "metadata": {},
   "outputs": [],
   "source": [
    "# create indexing object\n",
    "indexer = recordlinkage.Index()"
   ]
  },
  {
   "cell_type": "code",
   "execution_count": 184,
   "metadata": {},
   "outputs": [
    {
     "data": {
      "text/plain": [
       "<Index>"
      ]
     },
     "execution_count": 184,
     "metadata": {},
     "output_type": "execute_result"
    }
   ],
   "source": [
    "# block pairing on 'cuisine_type' column\n",
    "indexer.block('cuisine_type')"
   ]
  },
  {
   "cell_type": "code",
   "execution_count": 185,
   "metadata": {},
   "outputs": [
    {
     "name": "stdout",
     "output_type": "stream",
     "text": [
      "MultiIndex([(  0, 24),\n",
      "            (  0, 63),\n",
      "            (  0, 66),\n",
      "            ( 16, 24),\n",
      "            ( 16, 63),\n",
      "            ( 16, 66),\n",
      "            ( 22, 24),\n",
      "            ( 22, 63),\n",
      "            ( 22, 66),\n",
      "            ( 33, 24),\n",
      "            ...\n",
      "            (227, 55),\n",
      "            (238, 55),\n",
      "            (239, 55),\n",
      "            (241, 55),\n",
      "            (243, 55),\n",
      "            (261, 55),\n",
      "            (270, 55),\n",
      "            (302, 55),\n",
      "            (313, 55),\n",
      "            (329, 55)],\n",
      "           length=2439)\n"
     ]
    }
   ],
   "source": [
    "# generate pairs\n",
    "pairs = indexer.index(restaurants, restaurants_new)\n",
    "# resulting object is pandas multi index object containing pairs of row indices from both DF\n",
    "print(pairs)"
   ]
  },
  {
   "cell_type": "code",
   "execution_count": 186,
   "metadata": {},
   "outputs": [
    {
     "data": {
      "text/plain": [
       "<Compare>"
      ]
     },
     "execution_count": 186,
     "metadata": {},
     "output_type": "execute_result"
    }
   ],
   "source": [
    "# create comparison object\n",
    "comp_cl = recordlinkage.Compare()\n",
    "# find exact matches\n",
    "comp_cl.exact('city', 'city', label='city')\n",
    "comp_cl.exact('cuisine_type', 'cuisine_type', label='cuisine_type')"
   ]
  },
  {
   "cell_type": "code",
   "execution_count": 187,
   "metadata": {},
   "outputs": [
    {
     "data": {
      "text/plain": [
       "<Compare>"
      ]
     },
     "execution_count": 187,
     "metadata": {},
     "output_type": "execute_result"
    }
   ],
   "source": [
    "# find similar strings\n",
    "comp_cl.string('name', 'name', threshold=0.80, label='res_name')"
   ]
  },
  {
   "cell_type": "code",
   "execution_count": 188,
   "metadata": {},
   "outputs": [
    {
     "data": {
      "text/html": [
       "<div>\n",
       "<style scoped>\n",
       "    .dataframe tbody tr th:only-of-type {\n",
       "        vertical-align: middle;\n",
       "    }\n",
       "\n",
       "    .dataframe tbody tr th {\n",
       "        vertical-align: top;\n",
       "    }\n",
       "\n",
       "    .dataframe thead th {\n",
       "        text-align: right;\n",
       "    }\n",
       "</style>\n",
       "<table border=\"1\" class=\"dataframe\">\n",
       "  <thead>\n",
       "    <tr style=\"text-align: right;\">\n",
       "      <th></th>\n",
       "      <th></th>\n",
       "      <th>city</th>\n",
       "      <th>cuisine_type</th>\n",
       "      <th>res_name</th>\n",
       "    </tr>\n",
       "  </thead>\n",
       "  <tbody>\n",
       "    <tr>\n",
       "      <th rowspan=\"3\" valign=\"top\">0</th>\n",
       "      <th>24</th>\n",
       "      <td>0</td>\n",
       "      <td>1</td>\n",
       "      <td>0.0</td>\n",
       "    </tr>\n",
       "    <tr>\n",
       "      <th>63</th>\n",
       "      <td>0</td>\n",
       "      <td>1</td>\n",
       "      <td>0.0</td>\n",
       "    </tr>\n",
       "    <tr>\n",
       "      <th>66</th>\n",
       "      <td>0</td>\n",
       "      <td>1</td>\n",
       "      <td>0.0</td>\n",
       "    </tr>\n",
       "    <tr>\n",
       "      <th rowspan=\"2\" valign=\"top\">16</th>\n",
       "      <th>24</th>\n",
       "      <td>0</td>\n",
       "      <td>1</td>\n",
       "      <td>0.0</td>\n",
       "    </tr>\n",
       "    <tr>\n",
       "      <th>63</th>\n",
       "      <td>0</td>\n",
       "      <td>1</td>\n",
       "      <td>0.0</td>\n",
       "    </tr>\n",
       "    <tr>\n",
       "      <th>...</th>\n",
       "      <th>...</th>\n",
       "      <td>...</td>\n",
       "      <td>...</td>\n",
       "      <td>...</td>\n",
       "    </tr>\n",
       "    <tr>\n",
       "      <th>261</th>\n",
       "      <th>55</th>\n",
       "      <td>1</td>\n",
       "      <td>1</td>\n",
       "      <td>0.0</td>\n",
       "    </tr>\n",
       "    <tr>\n",
       "      <th>270</th>\n",
       "      <th>55</th>\n",
       "      <td>0</td>\n",
       "      <td>1</td>\n",
       "      <td>0.0</td>\n",
       "    </tr>\n",
       "    <tr>\n",
       "      <th>302</th>\n",
       "      <th>55</th>\n",
       "      <td>0</td>\n",
       "      <td>1</td>\n",
       "      <td>0.0</td>\n",
       "    </tr>\n",
       "    <tr>\n",
       "      <th>313</th>\n",
       "      <th>55</th>\n",
       "      <td>0</td>\n",
       "      <td>1</td>\n",
       "      <td>0.0</td>\n",
       "    </tr>\n",
       "    <tr>\n",
       "      <th>329</th>\n",
       "      <th>55</th>\n",
       "      <td>0</td>\n",
       "      <td>1</td>\n",
       "      <td>0.0</td>\n",
       "    </tr>\n",
       "  </tbody>\n",
       "</table>\n",
       "<p>2439 rows × 3 columns</p>\n",
       "</div>"
      ],
      "text/plain": [
       "        city  cuisine_type  res_name\n",
       "0   24     0             1       0.0\n",
       "    63     0             1       0.0\n",
       "    66     0             1       0.0\n",
       "16  24     0             1       0.0\n",
       "    63     0             1       0.0\n",
       "...      ...           ...       ...\n",
       "261 55     1             1       0.0\n",
       "270 55     0             1       0.0\n",
       "302 55     0             1       0.0\n",
       "313 55     0             1       0.0\n",
       "329 55     0             1       0.0\n",
       "\n",
       "[2439 rows x 3 columns]"
      ]
     },
     "execution_count": 188,
     "metadata": {},
     "output_type": "execute_result"
    }
   ],
   "source": [
    "# compute potential matches\n",
    "potential_matches = comp_cl.compute(pairs, restaurants, restaurants_new)\n",
    "potential_matches"
   ]
  },
  {
   "cell_type": "code",
   "execution_count": 189,
   "metadata": {},
   "outputs": [
    {
     "data": {
      "text/html": [
       "<div>\n",
       "<style scoped>\n",
       "    .dataframe tbody tr th:only-of-type {\n",
       "        vertical-align: middle;\n",
       "    }\n",
       "\n",
       "    .dataframe tbody tr th {\n",
       "        vertical-align: top;\n",
       "    }\n",
       "\n",
       "    .dataframe thead th {\n",
       "        text-align: right;\n",
       "    }\n",
       "</style>\n",
       "<table border=\"1\" class=\"dataframe\">\n",
       "  <thead>\n",
       "    <tr style=\"text-align: right;\">\n",
       "      <th></th>\n",
       "      <th></th>\n",
       "      <th>city</th>\n",
       "      <th>cuisine_type</th>\n",
       "      <th>res_name</th>\n",
       "    </tr>\n",
       "  </thead>\n",
       "  <tbody>\n",
       "    <tr>\n",
       "      <th>18</th>\n",
       "      <th>28</th>\n",
       "      <td>1</td>\n",
       "      <td>1</td>\n",
       "      <td>1.0</td>\n",
       "    </tr>\n",
       "    <tr>\n",
       "      <th>60</th>\n",
       "      <th>74</th>\n",
       "      <td>1</td>\n",
       "      <td>1</td>\n",
       "      <td>1.0</td>\n",
       "    </tr>\n",
       "    <tr>\n",
       "      <th>124</th>\n",
       "      <th>27</th>\n",
       "      <td>1</td>\n",
       "      <td>1</td>\n",
       "      <td>1.0</td>\n",
       "    </tr>\n",
       "    <tr>\n",
       "      <th>236</th>\n",
       "      <th>50</th>\n",
       "      <td>1</td>\n",
       "      <td>1</td>\n",
       "      <td>1.0</td>\n",
       "    </tr>\n",
       "  </tbody>\n",
       "</table>\n",
       "</div>"
      ],
      "text/plain": [
       "        city  cuisine_type  res_name\n",
       "18  28     1             1       1.0\n",
       "60  74     1             1       1.0\n",
       "124 27     1             1       1.0\n",
       "236 50     1             1       1.0"
      ]
     },
     "execution_count": 189,
     "metadata": {},
     "output_type": "execute_result"
    }
   ],
   "source": [
    "# isolate potential matches with row sum >= 3\n",
    "matches = potential_matches[potential_matches.sum(axis=1) >= 3]\n",
    "matches"
   ]
  },
  {
   "cell_type": "code",
   "execution_count": 190,
   "metadata": {},
   "outputs": [
    {
     "data": {
      "text/plain": [
       "Int64Index([28, 74, 27, 50], dtype='int64')"
      ]
     },
     "execution_count": 190,
     "metadata": {},
     "output_type": "execute_result"
    }
   ],
   "source": [
    "# extract indices of restaurants_new from matches\n",
    "matching_indices = matches.index.get_level_values(1)\n",
    "matching_indices"
   ]
  },
  {
   "cell_type": "code",
   "execution_count": 191,
   "metadata": {},
   "outputs": [],
   "source": [
    "# subset restaurants_new for rows, that are not in matching_indices\n",
    "non_dup = restaurants_new[~restaurants_new.index.isin(matching_indices)]"
   ]
  },
  {
   "cell_type": "code",
   "execution_count": 192,
   "metadata": {},
   "outputs": [
    {
     "data": {
      "text/html": [
       "<div>\n",
       "<style scoped>\n",
       "    .dataframe tbody tr th:only-of-type {\n",
       "        vertical-align: middle;\n",
       "    }\n",
       "\n",
       "    .dataframe tbody tr th {\n",
       "        vertical-align: top;\n",
       "    }\n",
       "\n",
       "    .dataframe thead th {\n",
       "        text-align: right;\n",
       "    }\n",
       "</style>\n",
       "<table border=\"1\" class=\"dataframe\">\n",
       "  <thead>\n",
       "    <tr style=\"text-align: right;\">\n",
       "      <th></th>\n",
       "      <th>name</th>\n",
       "      <th>addr</th>\n",
       "      <th>city</th>\n",
       "      <th>phone</th>\n",
       "      <th>cuisine_type</th>\n",
       "      <th>avg_cost_pp</th>\n",
       "    </tr>\n",
       "  </thead>\n",
       "  <tbody>\n",
       "    <tr>\n",
       "      <th>0</th>\n",
       "      <td>20 mott</td>\n",
       "      <td>20 mott st. between bowery and pell st.</td>\n",
       "      <td>new york</td>\n",
       "      <td>2129640380</td>\n",
       "      <td>mexican</td>\n",
       "      <td>90</td>\n",
       "    </tr>\n",
       "    <tr>\n",
       "      <th>1</th>\n",
       "      <td>21 club</td>\n",
       "      <td>21 w. 52nd st.</td>\n",
       "      <td>new york</td>\n",
       "      <td>2125827200</td>\n",
       "      <td>asian</td>\n",
       "      <td>30</td>\n",
       "    </tr>\n",
       "  </tbody>\n",
       "</table>\n",
       "</div>"
      ],
      "text/plain": [
       "      name                                      addr      city       phone  \\\n",
       "0  20 mott  20 mott st. between bowery and pell st.   new york  2129640380   \n",
       "1  21 club                           21 w. 52nd st.   new york  2125827200   \n",
       "\n",
       "  cuisine_type  avg_cost_pp  \n",
       "0      mexican           90  \n",
       "1        asian           30  "
      ]
     },
     "execution_count": 192,
     "metadata": {},
     "output_type": "execute_result"
    }
   ],
   "source": [
    "# link DFs\n",
    "restaurants_full = restaurants.append(non_dup)\n",
    "restaurants_full.head(2)"
   ]
  },
  {
   "cell_type": "markdown",
   "metadata": {},
   "source": [
    "# Remapping categories"
   ]
  },
  {
   "cell_type": "markdown",
   "metadata": {},
   "source": [
    "As a final step, we need to collapse data of 'avg_cost_pp' into 3 categories: '<50', '50-100' and '100+' and create new column 'cost_range'"
   ]
  },
  {
   "cell_type": "code",
   "execution_count": 193,
   "metadata": {},
   "outputs": [
    {
     "data": {
      "text/html": [
       "<div>\n",
       "<style scoped>\n",
       "    .dataframe tbody tr th:only-of-type {\n",
       "        vertical-align: middle;\n",
       "    }\n",
       "\n",
       "    .dataframe tbody tr th {\n",
       "        vertical-align: top;\n",
       "    }\n",
       "\n",
       "    .dataframe thead th {\n",
       "        text-align: right;\n",
       "    }\n",
       "</style>\n",
       "<table border=\"1\" class=\"dataframe\">\n",
       "  <thead>\n",
       "    <tr style=\"text-align: right;\">\n",
       "      <th></th>\n",
       "      <th>name</th>\n",
       "      <th>addr</th>\n",
       "      <th>city</th>\n",
       "      <th>phone</th>\n",
       "      <th>cuisine_type</th>\n",
       "      <th>avg_cost_pp</th>\n",
       "      <th>cost_range</th>\n",
       "    </tr>\n",
       "  </thead>\n",
       "  <tbody>\n",
       "    <tr>\n",
       "      <th>0</th>\n",
       "      <td>20 mott</td>\n",
       "      <td>20 mott st. between bowery and pell st.</td>\n",
       "      <td>new york</td>\n",
       "      <td>2129640380</td>\n",
       "      <td>mexican</td>\n",
       "      <td>90</td>\n",
       "      <td>50-100</td>\n",
       "    </tr>\n",
       "    <tr>\n",
       "      <th>1</th>\n",
       "      <td>21 club</td>\n",
       "      <td>21 w. 52nd st.</td>\n",
       "      <td>new york</td>\n",
       "      <td>2125827200</td>\n",
       "      <td>asian</td>\n",
       "      <td>30</td>\n",
       "      <td>&lt;50</td>\n",
       "    </tr>\n",
       "  </tbody>\n",
       "</table>\n",
       "</div>"
      ],
      "text/plain": [
       "      name                                      addr      city       phone  \\\n",
       "0  20 mott  20 mott st. between bowery and pell st.   new york  2129640380   \n",
       "1  21 club                           21 w. 52nd st.   new york  2125827200   \n",
       "\n",
       "  cuisine_type  avg_cost_pp cost_range  \n",
       "0      mexican           90     50-100  \n",
       "1        asian           30        <50  "
      ]
     },
     "execution_count": 193,
     "metadata": {},
     "output_type": "execute_result"
    }
   ],
   "source": [
    "range = [0, 50, 100, np.inf]\n",
    "group_names = ['<50', '50-100', '100+']\n",
    "restaurants_full['cost_range'] = pd.cut(restaurants_full['avg_cost_pp'], bins=range, labels=group_names)\n",
    "restaurants_full.head(2)"
   ]
  },
  {
   "cell_type": "markdown",
   "metadata": {},
   "source": [
    "Dataset restaurants_full is clean and prepared for analysis!"
   ]
  }
 ],
 "metadata": {
  "kernelspec": {
   "display_name": "Python 3",
   "language": "python",
   "name": "python3"
  },
  "language_info": {
   "codemirror_mode": {
    "name": "ipython",
    "version": 3
   },
   "file_extension": ".py",
   "mimetype": "text/x-python",
   "name": "python",
   "nbconvert_exporter": "python",
   "pygments_lexer": "ipython3",
   "version": "3.8.5"
  }
 },
 "nbformat": 4,
 "nbformat_minor": 4
}
