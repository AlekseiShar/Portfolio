{
 "cells": [
  {
   "cell_type": "markdown",
   "metadata": {
    "id": "lVL_ltXksX9-"
   },
   "source": [
    "In this project I will split customer`s emails into topics. Firstly, I will tokenize them and create vectors. Secondly, the optimal number of topics will be calculated using Silhouette score. Afterwards, I will split emails into topics using KMeans and LDA algorithms. Finally, I will build a clussification model to be able to predict the email topics in the future."
   ]
  },
  {
   "cell_type": "code",
   "execution_count": null,
   "metadata": {
    "id": "YczQ2Rejt1cR"
   },
   "outputs": [],
   "source": [
    "# Run SparkSession locally\n",
    "from pyspark.sql import SparkSession \n",
    "spark = SparkSession.builder \\\n",
    ".master(\"local[1]\") \\\n",
    ".appName(\"pyspark.TopicModelling\")\\\n",
    ".getOrCreate()"
   ]
  },
  {
   "cell_type": "code",
   "execution_count": null,
   "metadata": {
    "colab": {
     "base_uri": "https://localhost:8080/",
     "height": 219
    },
    "id": "TvGIhWRquoLH",
    "outputId": "73925e99-0f07-48ed-dfbc-a2e7ba928255"
   },
   "outputs": [
    {
     "data": {
      "text/html": [
       "\n",
       "            <div>\n",
       "                <p><b>SparkSession - in-memory</b></p>\n",
       "                \n",
       "        <div>\n",
       "            <p><b>SparkContext</b></p>\n",
       "\n",
       "            <p><a href=\"http://a522c01fe3de:4040\">Spark UI</a></p>\n",
       "\n",
       "            <dl>\n",
       "              <dt>Version</dt>\n",
       "                <dd><code>v3.3.1</code></dd>\n",
       "              <dt>Master</dt>\n",
       "                <dd><code>local[1]</code></dd>\n",
       "              <dt>AppName</dt>\n",
       "                <dd><code>pyspark.TopicModelling</code></dd>\n",
       "            </dl>\n",
       "        </div>\n",
       "        \n",
       "            </div>\n",
       "        "
      ],
      "text/plain": [
       "<pyspark.sql.session.SparkSession at 0x7f6c0751c590>"
      ]
     },
     "execution_count": 3,
     "metadata": {},
     "output_type": "execute_result"
    }
   ],
   "source": [
    "spark"
   ]
  },
  {
   "cell_type": "code",
   "execution_count": null,
   "metadata": {
    "id": "a-LcRE6muvkO"
   },
   "outputs": [],
   "source": [
    "# import modules \n",
    "import numpy as np\n",
    "import pandas as pd \n",
    "import matplotlib.pyplot as plt \n",
    "from pyspark.sql.types import StructType, StructField, IntegerType, StringType, TimestampType \n",
    "from pyspark.sql.functions import instr, col, lower, upper, translate,  regexp_replace \n",
    "from pyspark.ml.feature import Tokenizer, StopWordsRemover, CountVectorizer, HashingTF, IDF \n",
    "import pyspark.sql.functions as f \n",
    "from pyspark.ml import Pipeline \n",
    "from pyspark.ml.clustering import KMeans \n",
    "from pyspark.ml.clustering import LDA \n",
    "from pyspark.ml.classification import LogisticRegression \n",
    "from pyspark.ml.evaluation import BinaryClassificationEvaluator \n",
    "from pyspark.ml.evaluation import MulticlassClassificationEvaluator \n",
    "from pyspark.ml.tuning import CrossValidator, ParamGridBuilder \n",
    "from pyspark.ml.feature import NGram"
   ]
  },
  {
   "cell_type": "code",
   "execution_count": null,
   "metadata": {
    "id": "cVUEgvhzxe95"
   },
   "outputs": [],
   "source": [
    "# create schema \n",
    "schema = StructType(fields = [\n",
    "    StructField(\"ID\", StringType()), \n",
    "    StructField(\"From\", StringType()), \n",
    "    StructField(\"To\", StringType()), \n",
    "    StructField(\"Date\", TimestampType()), \n",
    "    StructField(\"Content1\", StringType()), \n",
    "    StructField(\"Content2\", StringType())\n",
    "])"
   ]
  },
  {
   "cell_type": "code",
   "execution_count": null,
   "metadata": {
    "id": "lDnsiFHfyWYy"
   },
   "outputs": [],
   "source": [
    "# import data \n",
    "df = spark.read\\\n",
    ".schema(schema)\\\n",
    ".option(\"header\", \"true\")\\\n",
    ".csv(\"/content/drive/MyDrive/Data_fraud/chapter_4/enron_emails_clean.csv\")"
   ]
  },
  {
   "cell_type": "code",
   "execution_count": null,
   "metadata": {
    "colab": {
     "base_uri": "https://localhost:8080/"
    },
    "id": "SBni6E4ry0ow",
    "outputId": "3d5be8df-c648-4883-e2bc-0602788b952c"
   },
   "outputs": [
    {
     "data": {
      "text/plain": [
       "87319"
      ]
     },
     "execution_count": 141,
     "metadata": {},
     "output_type": "execute_result"
    }
   ],
   "source": [
    "# check number of rows \n",
    "df.count()"
   ]
  },
  {
   "cell_type": "code",
   "execution_count": null,
   "metadata": {
    "colab": {
     "base_uri": "https://localhost:8080/"
    },
    "id": "2xo8-2qVy7Wr",
    "outputId": "e755be26-8492-440e-dac5-d31fe466f33b"
   },
   "outputs": [
    {
     "name": "stdout",
     "output_type": "stream",
     "text": [
      "-RECORD 0------------------------------------------------\n",
      " ID       | <8345058.1075840404046.JavaMail.evans@thyme> \n",
      " From     | ('advdfeedback@investools.com')              \n",
      " To       | ('advdfeedback@investools.com')              \n",
      " Date     | 2002-01-29 23:20:55                          \n",
      " Content1 | INVESTools Advisory                          \n",
      " Content2 | null                                         \n",
      "only showing top 1 row\n",
      "\n"
     ]
    }
   ],
   "source": [
    "# display the first row \n",
    "df.show(1, truncate=False, vertical=True)"
   ]
  },
  {
   "cell_type": "code",
   "execution_count": null,
   "metadata": {
    "colab": {
     "base_uri": "https://localhost:8080/"
    },
    "id": "6AZTtGlzzHSP",
    "outputId": "60bd981e-e33d-43ef-d1a1-88b8774219d7"
   },
   "outputs": [
    {
     "data": {
      "text/plain": [
       "84417"
      ]
     },
     "execution_count": 143,
     "metadata": {},
     "output_type": "execute_result"
    }
   ],
   "source": [
    "# check \"Content1\" for null values\n",
    "df.filter(f.isnull(\"Content1\"))\\\n",
    ".count()"
   ]
  },
  {
   "cell_type": "code",
   "execution_count": null,
   "metadata": {
    "colab": {
     "base_uri": "https://localhost:8080/"
    },
    "id": "tm8YyGsdzYFf",
    "outputId": "15ca8e3c-601a-4374-ea14-44cedb897616"
   },
   "outputs": [
    {
     "data": {
      "text/plain": [
       "2902"
      ]
     },
     "execution_count": 144,
     "metadata": {},
     "output_type": "execute_result"
    }
   ],
   "source": [
    "# drop null values based on \"Content1\" column \n",
    "df = df.dropna(subset=['Content1'])\n",
    "df.count()"
   ]
  },
  {
   "cell_type": "code",
   "execution_count": null,
   "metadata": {
    "colab": {
     "base_uri": "https://localhost:8080/"
    },
    "id": "NPoe3DJKQGsn",
    "outputId": "b119430d-ebb4-4589-bdf8-c71a231466aa"
   },
   "outputs": [
    {
     "name": "stdout",
     "output_type": "stream",
     "text": [
      "-RECORD 0----------------------------------------------------------------------------------------------------------------\n",
      " Concat | INVESTools Advisory                                                                                            \n",
      "-RECORD 1----------------------------------------------------------------------------------------------------------------\n",
      " Concat | ----- Forwarded by Richard B Sanders/HOU/ECT on 09/20/2000 07:07 PM -----                                      \n",
      "-RECORD 2----------------------------------------------------------------------------------------------------------------\n",
      " Concat | hey you are not wearing your target purple shirt today are you?  I have mine on and I don't want to look silly \n",
      "only showing top 3 rows\n",
      "\n"
     ]
    }
   ],
   "source": [
    "# create a new column \"Concat\" by concatenating \"Content1\", and \"Content2\"\n",
    "df = df.withColumn(\"Concat\", f.concat_ws(\" \", \"Content1\", \"Content2\"))\n",
    "df[['Concat']]\\\n",
    ".show(3, False, True)"
   ]
  },
  {
   "cell_type": "markdown",
   "metadata": {
    "id": "mNISBgLFRAxc"
   },
   "source": [
    "# Tokenization"
   ]
  },
  {
   "cell_type": "code",
   "execution_count": null,
   "metadata": {
    "colab": {
     "base_uri": "https://localhost:8080/"
    },
    "id": "g37SGWst0gGW",
    "outputId": "41621c94-cd9c-4f09-df80-4c998318bd68"
   },
   "outputs": [
    {
     "name": "stdout",
     "output_type": "stream",
     "text": [
      "-RECORD 0-------------------------------------------------------------------------------------------------------------------\n",
      " Concat_ml | investools advisory                                                                                            \n",
      " Concat    | INVESTools Advisory                                                                                            \n",
      "-RECORD 1-------------------------------------------------------------------------------------------------------------------\n",
      " Concat_ml |       forwarded by richard b sanders hou ect on           pm                                                   \n",
      " Concat    | ----- Forwarded by Richard B Sanders/HOU/ECT on 09/20/2000 07:07 PM -----                                      \n",
      "-RECORD 2-------------------------------------------------------------------------------------------------------------------\n",
      " Concat_ml | hey you are not wearing your target purple shirt today are you   i have mine on and i don t want to look silly \n",
      " Concat    | hey you are not wearing your target purple shirt today are you?  I have mine on and I don't want to look silly \n",
      "only showing top 3 rows\n",
      "\n"
     ]
    }
   ],
   "source": [
    "# create a regular expression to remove digits and special characters \n",
    "reg_exp = r\"(\\d+|\\#|\\!|\\?|\\.|\\,|\\:|\\/|\\=|\\-|\\+|\\(|\\)|\\\"|\\'|\\;|\\[|\\])\"\n",
    "# create a new column \"Concat_ml\", based on \"Concat\" column for text tokenization\n",
    "# remove unnecessary characters \n",
    "df = df.withColumn(\"Concat_ml\", \n",
    "                   regexp_replace(lower(col(\"Concat\")), reg_exp, \" \"))\n",
    "# display a new column\n",
    "df\\\n",
    ".select(f.col(\"Concat_ml\"), f.col(\"Concat\"))\\\n",
    ".show(3, False, True)"
   ]
  },
  {
   "cell_type": "code",
   "execution_count": null,
   "metadata": {
    "id": "4fbktvnI5L1V"
   },
   "outputs": [],
   "source": [
    "# tokenize \"Concat_ml\" \n",
    "tokenizer = Tokenizer(inputCol=\"Concat_ml\", outputCol=\"Concat_words\")\n",
    "# instantiate stop words \n",
    "stop_words = StopWordsRemover.loadDefaultStopWords(\"english\")\n",
    "# remove stop words \n",
    "swr = StopWordsRemover(inputCol=tokenizer.getOutputCol(), \n",
    "                       outputCol=\"words_filtered\", \n",
    "                       stopWords=stop_words)\n",
    "# ngram = NGram(n=2, inputCol=swr.getOutputCol(), outputCol=\"ngrams\")\n",
    "# instantiate CountVectorizer \n",
    "count_vectorizer = CountVectorizer(inputCol=swr.getOutputCol(), \n",
    "                                   outputCol=\"word_vectors\", \n",
    "                                   vocabSize=1000, \n",
    "                                   minDF=7)\n",
    "# instantiate IDF model \n",
    "# idf_cv = IDF(inputCol=\"word_vectors\", outputCol=\"features_cv\", \n",
    "             # minDocFreq=7)\n",
    "# preprocess data using pipeline \n",
    "preprocessing = Pipeline(stages=[tokenizer, \n",
    "                                 swr, \n",
    "                                 count_vectorizer])\n",
    "# fit pipeline to the data \n",
    "preprocessing_model = preprocessing.fit(df)\n",
    "preprocessing_data = preprocessing_model.transform(df)"
   ]
  },
  {
   "cell_type": "code",
   "execution_count": null,
   "metadata": {
    "colab": {
     "base_uri": "https://localhost:8080/"
    },
    "id": "ZkXV_9iq8GXk",
    "outputId": "4466bae7-2718-4d72-f5b2-9b28ab716676"
   },
   "outputs": [
    {
     "name": "stdout",
     "output_type": "stream",
     "text": [
      "-RECORD 0----------------------------------------------------------------------------\n",
      " word_vectors | (397,[],[])                                                          \n",
      "-RECORD 1----------------------------------------------------------------------------\n",
      " word_vectors | (397,[0,9,19,21,104,173,202,325],[16.0,1.0,1.0,1.0,1.0,1.0,1.0,1.0]) \n",
      "-RECORD 2----------------------------------------------------------------------------\n",
      " word_vectors | (397,[0,58,81,127,177],[2.0,1.0,1.0,1.0,1.0])                        \n",
      "only showing top 3 rows\n",
      "\n"
     ]
    }
   ],
   "source": [
    "# check vectors \n",
    "preprocessing_data\\\n",
    ".select(\"word_vectors\")\\\n",
    ".show(3, False, True)"
   ]
  },
  {
   "cell_type": "markdown",
   "metadata": {
    "id": "OmjI4Y_mS3hv"
   },
   "source": [
    "# Compute number of clusters using Silhouette score"
   ]
  },
  {
   "cell_type": "code",
   "execution_count": null,
   "metadata": {
    "colab": {
     "base_uri": "https://localhost:8080/"
    },
    "id": "1AASExZG_3ND",
    "outputId": "08fea12d-479a-4a9d-e9c8-bc63140233af"
   },
   "outputs": [
    {
     "name": "stdout",
     "output_type": "stream",
     "text": [
      "Silhouette score:  0.9129624874002884\n",
      "Silhouette score:  0.68231381459192\n",
      "Silhouette score:  0.7364634179183308\n",
      "Silhouette score:  0.6984728352233576\n",
      "Silhouette score:  0.644080636301204\n",
      "Silhouette score:  0.678732220705353\n",
      "Silhouette score:  0.6452707086006462\n",
      "Silhouette score:  0.6424984287076676\n",
      "Silhouette score:  0.6686264176647466\n"
     ]
    }
   ],
   "source": [
    "# evaluate KMeans model by calculating Silhouette score for different number of clusters\n",
    "# select the right number of clusters\n",
    "from pyspark.ml.evaluation import ClusteringEvaluator \n",
    "silhouette_score = []\n",
    "# instantiate Evaluator with Silhouette measure using squared Euclidean distance \n",
    "evaluator = ClusteringEvaluator(predictionCol='prediction', \n",
    "                                featuresCol=\"word_vectors\", \n",
    "                                metricName=\"silhouette\", \n",
    "                                distanceMeasure=\"squaredEuclidean\")\n",
    "# compute Silhouette measure for different number of clusters in a range\n",
    "for i in range(3, 12):\n",
    "  kmeans=KMeans(featuresCol=\"word_vectors\", k=i)\n",
    "  kmeans_fit = kmeans.fit(preprocessing_data)\n",
    "  output = kmeans_fit.transform(preprocessing_data)\n",
    "  # Compute silhouette score for diffrent number of clusters\n",
    "  score = evaluator.evaluate(output)\n",
    "  silhouette_score.append(score)\n",
    "  print(\"Silhouette score: \", score)"
   ]
  },
  {
   "cell_type": "code",
   "execution_count": null,
   "metadata": {
    "colab": {
     "base_uri": "https://localhost:8080/",
     "height": 295
    },
    "id": "BiLKljeHDf0D",
    "outputId": "d4ca9a60-cc93-406b-91b3-a8be0d5bd0cf"
   },
   "outputs": [
    {
     "data": {
      "image/png": "[encoded data removed]",
      "text/plain": [
       "<Figure size 432x288 with 1 Axes>"
      ]
     },
     "metadata": {},
     "output_type": "display_data"
    }
   ],
   "source": [
    "# visualize silhouette score \n",
    "fig, ax=plt.subplots(figsize=(6,4))\n",
    "ax.plot(range(3,12), silhouette_score)\n",
    "ax.set_xlabel(\"k\")\n",
    "ax.set_ylabel(\"Score\")\n",
    "ax.set_title(\"Silhouette score\")\n",
    "plt.show()"
   ]
  },
  {
   "cell_type": "markdown",
   "metadata": {
    "id": "17iXfWF1zBZl"
   },
   "source": [
    "We can clearly see that the optimal number of clusters is 3 because of the highest Silhouette score of 0.9129624874002884. I will split e-mails into 3 clusters using KMeans and LDA models. "
   ]
  },
  {
   "cell_type": "markdown",
   "metadata": {
    "id": "wyJGlBzgTiPw"
   },
   "source": [
    "# KMeans model with 3 clusters"
   ]
  },
  {
   "cell_type": "code",
   "execution_count": null,
   "metadata": {
    "id": "J1Hv4UVhETUz"
   },
   "outputs": [],
   "source": [
    "# create KMeans model \n",
    "kmeans = KMeans(featuresCol=\"word_vectors\", k=3, seed=3545)\n",
    "kmeans_model = kmeans.fit(preprocessing_data)\n",
    "clustering_kmeans = kmeans_model.transform(preprocessing_data)"
   ]
  },
  {
   "cell_type": "code",
   "execution_count": null,
   "metadata": {
    "colab": {
     "base_uri": "https://localhost:8080/"
    },
    "id": "We6Nadl3E778",
    "outputId": "6bb3145a-97d6-477f-9904-f6d8f72857c9"
   },
   "outputs": [
    {
     "name": "stdout",
     "output_type": "stream",
     "text": [
      "+----------+-----+\n",
      "|prediction|count|\n",
      "+----------+-----+\n",
      "|         0|  778|\n",
      "|         1| 1937|\n",
      "|         2|  176|\n",
      "+----------+-----+\n",
      "\n"
     ]
    }
   ],
   "source": [
    "# compute the size of the clusters\n",
    "clustering_kmeans.groupBy(\"prediction\")\\\n",
    ".agg(f.count(\"ID\").alias(\"count\"))\\\n",
    ".orderBy(\"prediction\")\\\n",
    ".show()"
   ]
  },
  {
   "cell_type": "code",
   "execution_count": null,
   "metadata": {
    "colab": {
     "base_uri": "https://localhost:8080/"
    },
    "id": "I2iLXBGNFw0e",
    "outputId": "618c1d53-247f-4ca7-eae4-544de77cfbd4"
   },
   "outputs": [
    {
     "name": "stdout",
     "output_type": "stream",
     "text": [
      "security\n",
      "involving\n",
      "giron\n",
      "shirley\n",
      "darron\n",
      "option>\n",
      "dear\n",
      "person\n",
      "surprising\n",
      "interests\n",
      "steven\n",
      "holdings\n",
      "indirect\n",
      "question\n",
      "na\n"
     ]
    }
   ],
   "source": [
    "# display the first 15 words of cluster 0\n",
    "for i in np.argsort(kmeans_model.clusterCenters()[0])[:15]:\n",
    "  print(preprocessing_model.stages[2].vocabulary[i])"
   ]
  },
  {
   "cell_type": "code",
   "execution_count": null,
   "metadata": {
    "colab": {
     "base_uri": "https://localhost:8080/"
    },
    "id": "8uUzWRUyGo4b",
    "outputId": "7e01bc21-a6c2-431f-9907-3656f884e058"
   },
   "outputs": [
    {
     "name": "stdout",
     "output_type": "stream",
     "text": [
      "giron\n",
      "clearly\n",
      "optimal\n",
      "rule\n",
      "identify\n",
      "involuntary\n",
      "additional\n",
      "experience\n",
      "merchant\n",
      "ancillary\n",
      "darron\n",
      "key\n",
      "benefits\n",
      "tuned\n",
      "addressed\n"
     ]
    }
   ],
   "source": [
    "# display the first 15 words of cluster 1 \n",
    "for i in np.argsort(kmeans_model.clusterCenters()[1])[:15]:\n",
    "  print(preprocessing_model.stages[2].vocabulary[i])"
   ]
  },
  {
   "cell_type": "code",
   "execution_count": null,
   "metadata": {
    "colab": {
     "base_uri": "https://localhost:8080/"
    },
    "id": "nGv6YLRKHTyS",
    "outputId": "893bc0de-cc68-4ad9-8222-cebaba1a2676"
   },
   "outputs": [
    {
     "name": "stdout",
     "output_type": "stream",
     "text": [
      "ken\n",
      "able\n",
      "dave\n",
      "job\n",
      "meeting\n",
      "back\n",
      "revised\n",
      "industry\n",
      "talked\n",
      "lynn\n",
      "hey\n",
      "people\n",
      "form\n",
      "changed\n",
      "fine\n"
     ]
    }
   ],
   "source": [
    "# display the first 15 words of cluster 2 \n",
    "for i in np.argsort(kmeans_model.clusterCenters()[2])[:15]:\n",
    "  print(preprocessing_model.stages[2].vocabulary[i])"
   ]
  },
  {
   "cell_type": "markdown",
   "metadata": {
    "id": "JflWRtyLmWvQ"
   },
   "source": [
    "# LDA with 3 clusters"
   ]
  },
  {
   "cell_type": "code",
   "execution_count": null,
   "metadata": {
    "id": "U188EccFKU5_"
   },
   "outputs": [],
   "source": [
    "# create LDA model\n",
    "lda = LDA(featuresCol=\"word_vectors\", seed=2385, k=3) \n",
    "lda_model = lda.fit(preprocessing_data)\n",
    "topics_lda = lda_model.transform(preprocessing_data)"
   ]
  },
  {
   "cell_type": "code",
   "execution_count": null,
   "metadata": {
    "colab": {
     "base_uri": "https://localhost:8080/"
    },
    "id": "9doK0-ESK1hf",
    "outputId": "276df83c-38c5-4474-de39-16cf8d0f877a"
   },
   "outputs": [
    {
     "name": "stdout",
     "output_type": "stream",
     "text": [
      "-RECORD 0---------------------------------------------------------------------------\n",
      " topicDistribution | [0.0,0.0,0.0]                                                  \n",
      "-RECORD 1---------------------------------------------------------------------------\n",
      " topicDistribution | [0.012474430024457523,0.9758788611094242,0.011646708866118342] \n",
      "-RECORD 2---------------------------------------------------------------------------\n",
      " topicDistribution | [0.7409908792770633,0.2181790081751091,0.0408301125478275]     \n",
      "-RECORD 3---------------------------------------------------------------------------\n",
      " topicDistribution | [0.39080081058791216,0.5859081576320516,0.02329103178003622]   \n",
      "-RECORD 4---------------------------------------------------------------------------\n",
      " topicDistribution | [0.39080081058791216,0.5859081576320516,0.02329103178003622]   \n",
      "only showing top 5 rows\n",
      "\n"
     ]
    }
   ],
   "source": [
    "# display topicDistribution column\n",
    "topics_lda\\\n",
    ".select(f.col(\"topicDistribution\"))\\\n",
    ".show(5, False, True)"
   ]
  },
  {
   "cell_type": "code",
   "execution_count": null,
   "metadata": {
    "colab": {
     "base_uri": "https://localhost:8080/"
    },
    "id": "IcCH6HIFLa-x",
    "outputId": "9af32dbe-9a3e-49ab-a307-bb7d298c64b1"
   },
   "outputs": [
    {
     "data": {
      "text/plain": [
       "397"
      ]
     },
     "execution_count": 86,
     "metadata": {},
     "output_type": "execute_result"
    }
   ],
   "source": [
    "lda_model.vocabSize()"
   ]
  },
  {
   "cell_type": "code",
   "execution_count": null,
   "metadata": {
    "colab": {
     "base_uri": "https://localhost:8080/"
    },
    "id": "VbeqI8z0Lg0B",
    "outputId": "c47ffaa1-95fc-49de-f31d-694aa8ed67da"
   },
   "outputs": [
    {
     "data": {
      "text/plain": [
       "[Row(topic=0, termIndices=[0, 29, 81, 30, 36, 76, 59, 37, 79, 84, 72, 90, 100, 117, 127], termWeights=[0.14375050822777513, 0.01729099306737436, 0.016076063573412177, 0.014913549009464885, 0.012579496936003468, 0.011387154187624647, 0.010860801884284576, 0.010763561629976688, 0.008442271872798767, 0.008184265762825148, 0.008092859072129126, 0.007893671816104592, 0.007878453457075078, 0.007798407829401293, 0.007527668021461999]),\n",
       " Row(topic=1, termIndices=[0, 2, 3, 1, 9, 7, 4, 5, 8, 11, 12, 10, 18, 13, 14], termWeights=[0.614566981444358, 0.018132968814615777, 0.017696121151715476, 0.015655851534005904, 0.010520183692026553, 0.009732010005395815, 0.00963031291008453, 0.009096451073797618, 0.009087296800552128, 0.008972249272293434, 0.008944766505409178, 0.008880511627057027, 0.008843866813116094, 0.00884125264859584, 0.008834814134288015]),\n",
       " Row(topic=2, termIndices=[1, 20, 22, 6, 23, 25, 0, 33, 40, 42, 38, 31, 50, 52, 46], termWeights=[0.049985045342048354, 0.03334314495941579, 0.030590794149817763, 0.030110497675321948, 0.02397647896458334, 0.022214229722862272, 0.02193644075737416, 0.015331831036894361, 0.013269335807481944, 0.012878271054650083, 0.01284102438467871, 0.012722872937116547, 0.012381441909196935, 0.012279397044347476, 0.012095073464280967])]"
      ]
     },
     "execution_count": 88,
     "metadata": {},
     "output_type": "execute_result"
    }
   ],
   "source": [
    "# check our 3 topics\n",
    "lda_model\\\n",
    ".describeTopics(maxTermsPerTopic=15)\\\n",
    ".collect()"
   ]
  },
  {
   "cell_type": "code",
   "execution_count": null,
   "metadata": {
    "colab": {
     "base_uri": "https://localhost:8080/"
    },
    "id": "d6JghNi5cNld",
    "outputId": "7f5407c9-3da9-4d45-af5e-23e5cf327cd3"
   },
   "outputs": [
    {
     "name": "stdout",
     "output_type": "stream",
     "text": [
      "+-----+--------------------+--------------------+\n",
      "|topic|         termIndices|         termWeights|\n",
      "+-----+--------------------+--------------------+\n",
      "|    0|[0, 29, 81, 30, 3...|[0.14375050822777...|\n",
      "|    1|[0, 2, 3, 1, 9, 7...|[0.61456698144435...|\n",
      "|    2|[1, 20, 22, 6, 23...|[0.04998504534204...|\n",
      "+-----+--------------------+--------------------+\n",
      "\n"
     ]
    }
   ],
   "source": [
    "lda_model\\\n",
    ".describeTopics()\\\n",
    ".show(3)"
   ]
  },
  {
   "cell_type": "code",
   "execution_count": null,
   "metadata": {
    "colab": {
     "base_uri": "https://localhost:8080/"
    },
    "id": "z6YFFkRSL3Vp",
    "outputId": "f27bc8e4-0a9b-4aa4-e9c4-08e746dc1cfc"
   },
   "outputs": [
    {
     "name": "stdout",
     "output_type": "stream",
     "text": [
      "\n",
      "new\n",
      "want\n",
      "think\n",
      "need\n",
      "one\n",
      "fyi\n",
      "good\n",
      "last\n",
      "mail\n",
      "work\n",
      "th\n",
      "week\n",
      "office\n",
      "look\n"
     ]
    }
   ],
   "source": [
    "# check words for topic 0 \n",
    "for i in [0, 29, 81, 30, 36, 76, 59, 37, 79, 84, 72, 90, 100, 117, 127]:\n",
    "  print(preprocessing_model.stages[2].vocabulary[i])"
   ]
  },
  {
   "cell_type": "code",
   "execution_count": null,
   "metadata": {
    "colab": {
     "base_uri": "https://localhost:8080/"
    },
    "id": "T-jT6K8BMP5J",
    "outputId": "f7eea5d0-121b-4855-eb85-b330056d1429"
   },
   "outputs": [
    {
     "name": "stdout",
     "output_type": "stream",
     "text": [
      "\n",
      "california\n",
      "consumers\n",
      "enron\n",
      "forwarded\n",
      "pay\n",
      "employees\n",
      "made\n",
      "energy\n",
      "low\n",
      "millions\n",
      "efforts\n",
      "relief\n",
      "provide\n",
      "bills\n"
     ]
    }
   ],
   "source": [
    "# check words for topic 1\n",
    "for i in [0, 2, 3, 1, 9, 7, 4, 5, 8, 11, 12, 10, 18, 13, 14]:\n",
    "  print(preprocessing_model.stages[2].vocabulary[i])"
   ]
  },
  {
   "cell_type": "code",
   "execution_count": null,
   "metadata": {
    "colab": {
     "base_uri": "https://localhost:8080/"
    },
    "id": "v7Tr1jt8Mrk6",
    "outputId": "9980c9a5-ab26-4576-ea2b-f90ea27828f4"
   },
   "outputs": [
    {
     "name": "stdout",
     "output_type": "stream",
     "text": [
      "enron\n",
      "updates\n",
      "com\n",
      "please\n",
      "questions\n",
      "merger\n",
      "\n",
      "dynegy\n",
      "ve\n",
      "many\n",
      "home\n",
      "stock\n",
      "options\n",
      "updated\n",
      "additional\n"
     ]
    }
   ],
   "source": [
    "# check words for topic 2\n",
    "for i in [1, 20, 22, 6, 23, 25, 0, 33, 40, 42, 38, 31, 50, 52, 46]:\n",
    "  print(preprocessing_model.stages[-1].vocabulary[i])"
   ]
  },
  {
   "cell_type": "markdown",
   "metadata": {
    "id": "j-WVtetV41Pg"
   },
   "source": [
    "# Logistic regression model"
   ]
  },
  {
   "cell_type": "code",
   "execution_count": null,
   "metadata": {
    "colab": {
     "base_uri": "https://localhost:8080/"
    },
    "id": "jqtAQ7zkq5XS",
    "outputId": "0cc7e63b-fc87-477e-a46f-c543d6a4a0d2"
   },
   "outputs": [
    {
     "data": {
      "text/plain": [
       "[Row(prediction=1, count=1551),\n",
       " Row(prediction=2, count=146),\n",
       " Row(prediction=0, count=615)]"
      ]
     },
     "execution_count": 151,
     "metadata": {},
     "output_type": "execute_result"
    }
   ],
   "source": [
    "# take a sample of 80% of prediction data\n",
    "train=clustering_kmeans.sampleBy(\"prediction\", \n",
    "                                 fractions={0:0.8, 1:0.8, 2:0.8}, \n",
    "                                 seed=3435)\\\n",
    "                                 .cache()\n",
    "# check the size of the labels \n",
    "train.groupBy(\"prediction\").count().collect()"
   ]
  },
  {
   "cell_type": "code",
   "execution_count": null,
   "metadata": {
    "colab": {
     "base_uri": "https://localhost:8080/"
    },
    "id": "U7rwSBHtwu-g",
    "outputId": "2930e199-3984-4914-fd08-756b79883e3b"
   },
   "outputs": [
    {
     "data": {
      "text/plain": [
       "[Row(prediction=1, count=371),\n",
       " Row(prediction=2, count=30),\n",
       " Row(prediction=0, count=142)]"
      ]
     },
     "execution_count": 152,
     "metadata": {},
     "output_type": "execute_result"
    }
   ],
   "source": [
    "# take the rest of 20% data as test\n",
    "test = \\\n",
    "clustering_kmeans.join(train, on=\"ID\", how=\"leftanti\")\\\n",
    ".cache()\n",
    "# check the size of the labels\n",
    "test.groupBy(\"prediction\").count().collect()"
   ]
  },
  {
   "cell_type": "code",
   "execution_count": null,
   "metadata": {
    "id": "i2yKrUkuxYOo"
   },
   "outputs": [],
   "source": [
    "# drop unnessary columns and rename \"prediction\" to \"target\"\n",
    "train = train.select(\"ID\", \"word_vectors\", \n",
    "                     f.col(\"prediction\").alias(\"target\"))\n",
    "test = test.select(\"ID\", \"word_vectors\", \n",
    "                   f.col(\"prediction\").alias(\"target\"))"
   ]
  },
  {
   "cell_type": "code",
   "execution_count": null,
   "metadata": {
    "colab": {
     "base_uri": "https://localhost:8080/"
    },
    "id": "fQfRmRlFyCyb",
    "outputId": "166d04f6-544f-41a1-a730-39447ab29bf4"
   },
   "outputs": [
    {
     "name": "stdout",
     "output_type": "stream",
     "text": [
      "-RECORD 0------------------------------------------------------------------------\n",
      " ID            | <8345058.1075840404046.JavaMail.evans@thyme>                    \n",
      " word_vectors  | (397,[],[])                                                     \n",
      " target        | 1                                                               \n",
      " rawPrediction | [-0.14926569441838625,16.424167675341447,-16.274901980923065]   \n",
      " probability   | [6.342336988922133E-8,0.9999999365766239,6.294691601192857E-15] \n",
      " prediction    | 1.0                                                             \n",
      "-RECORD 1------------------------------------------------------------------------\n",
      " ID            | <26118676.1075862176383.JavaMail.evans@thyme>                   \n",
      " word_vectors  | (397,[0,58,81,127,177],[2.0,1.0,1.0,1.0,1.0])                   \n",
      " target        | 1                                                               \n",
      " rawPrediction | [4.3417480931777,14.020451589475947,-18.362199682653653]        \n",
      " probability   | [6.259869686333678E-5,0.9999374013031279,8.637062375142307E-15] \n",
      " prediction    | 1.0                                                             \n",
      "only showing top 2 rows\n",
      "\n"
     ]
    }
   ],
   "source": [
    "# instantiate and fit LogisticRegression\n",
    "lr = \\\n",
    "LogisticRegression(featuresCol=preprocessing_model.stages[2].getOutputCol(), \n",
    "                   labelCol='target', maxIter=20)\n",
    "lr_model = lr.fit(train)\n",
    "# make prediction \n",
    "predictions = lr_model.transform(test)\n",
    "predictions.show(2, False, True)"
   ]
  },
  {
   "cell_type": "code",
   "execution_count": null,
   "metadata": {
    "colab": {
     "base_uri": "https://localhost:8080/"
    },
    "id": "ns-DjAsKy-S7",
    "outputId": "06258769-072a-4272-b81e-f6f83e8bb0ce"
   },
   "outputs": [
    {
     "data": {
      "text/plain": [
       "0.8716988731011581"
      ]
     },
     "execution_count": 185,
     "metadata": {},
     "output_type": "execute_result"
    }
   ],
   "source": [
    "# compute f1 metric \n",
    "evaluator = \\\n",
    "MulticlassClassificationEvaluator(predictionCol='prediction',\n",
    "                                  labelCol='target', \n",
    "                                  metricName='f1')\n",
    "evaluator.evaluate(predictions)"
   ]
  },
  {
   "cell_type": "code",
   "execution_count": null,
   "metadata": {
    "colab": {
     "base_uri": "https://localhost:8080/"
    },
    "id": "nNUV_iS_zlK2",
    "outputId": "cb8d13d5-c46e-49f1-e74b-706a7991198e"
   },
   "outputs": [
    {
     "data": {
      "text/plain": [
       "0.8726484688252821"
      ]
     },
     "execution_count": 186,
     "metadata": {},
     "output_type": "execute_result"
    }
   ],
   "source": [
    "# change f1 to weightedPrecision \n",
    "evaluator = evaluator.setMetricName(\"weightedPrecision\")\n",
    "evaluator.evaluate(predictions)"
   ]
  },
  {
   "cell_type": "code",
   "execution_count": null,
   "metadata": {
    "colab": {
     "base_uri": "https://localhost:8080/"
    },
    "id": "SIXt2innDO90",
    "outputId": "6360019d-264e-4dca-c4d1-70814bd5d99f"
   },
   "outputs": [
    {
     "data": {
      "text/plain": [
       "0.871086556169429"
      ]
     },
     "execution_count": 187,
     "metadata": {},
     "output_type": "execute_result"
    }
   ],
   "source": [
    "# compute weightedRecall \n",
    "evaluator = evaluator.setMetricName(\"weightedRecall\")\n",
    "evaluator.evaluate(predictions)"
   ]
  },
  {
   "cell_type": "markdown",
   "metadata": {
    "id": "dkuf4DCWnyW7"
   },
   "source": [
    "# Model tuning"
   ]
  },
  {
   "cell_type": "code",
   "execution_count": null,
   "metadata": {
    "id": "mYNUgqHt0Jby"
   },
   "outputs": [],
   "source": [
    "# set parameters \n",
    "paramGrid=\\\n",
    "ParamGridBuilder()\\\n",
    ".addGrid(lr.maxIter, [7, 14, 18])\\\n",
    ".addGrid(lr.regParam, [0.01, 0.03, 0.05, 0.07])\\\n",
    ".build()"
   ]
  },
  {
   "cell_type": "code",
   "execution_count": null,
   "metadata": {
    "id": "XrJoNoeD0tsl"
   },
   "outputs": [],
   "source": [
    "# cross validation \n",
    "crossval = \\\n",
    "CrossValidator(estimator=lr, \n",
    "               estimatorParamMaps=paramGrid, \n",
    "               evaluator=evaluator, \n",
    "               numFolds=3, \n",
    "               parallelism=5)\n",
    "cv_model = crossval.fit(train)"
   ]
  },
  {
   "cell_type": "code",
   "execution_count": null,
   "metadata": {
    "colab": {
     "base_uri": "https://localhost:8080/"
    },
    "id": "VRgvlRa21Zlm",
    "outputId": "80dbf93a-029d-423a-c512-9e6f625dd21a"
   },
   "outputs": [
    {
     "data": {
      "text/plain": [
       "[0.818540692515362,\n",
       " 0.8228354778835817,\n",
       " 0.8228002803898785,\n",
       " 0.8228724789142395,\n",
       " 0.8411858279171934,\n",
       " 0.8325064599095414,\n",
       " 0.8279472567158538,\n",
       " 0.8275581622676338,\n",
       " 0.844755220629528,\n",
       " 0.832837347506343,\n",
       " 0.8266653632053115,\n",
       " 0.8240821739004208]"
      ]
     },
     "execution_count": 190,
     "metadata": {},
     "output_type": "execute_result"
    }
   ],
   "source": [
    "cv_model.avgMetrics"
   ]
  },
  {
   "cell_type": "code",
   "execution_count": null,
   "metadata": {
    "colab": {
     "base_uri": "https://localhost:8080/"
    },
    "id": "h915-tko1gy3",
    "outputId": "531a97c4-8638-4a6d-bc78-ba05b9024ca9"
   },
   "outputs": [
    {
     "data": {
      "text/plain": [
       "LogisticRegressionModel: uid=LogisticRegression_5b20f027ed3b, numClasses=3, numFeatures=397"
      ]
     },
     "execution_count": 191,
     "metadata": {},
     "output_type": "execute_result"
    }
   ],
   "source": [
    "# grab the best model \n",
    "cv_model.bestModel"
   ]
  },
  {
   "cell_type": "code",
   "execution_count": null,
   "metadata": {
    "colab": {
     "base_uri": "https://localhost:8080/"
    },
    "id": "f5I35Qqrp_AL",
    "outputId": "ac6e6716-4213-47d7-a475-fae4463b3a41"
   },
   "outputs": [
    {
     "data": {
      "text/plain": [
       "0.8766114180478821"
      ]
     },
     "execution_count": 192,
     "metadata": {},
     "output_type": "execute_result"
    }
   ],
   "source": [
    "# compute predictions \n",
    "predictions = cv_model.transform(test)\n",
    "# compute weightedRecall \n",
    "evaluator.evaluate(predictions)"
   ]
  },
  {
   "cell_type": "code",
   "execution_count": null,
   "metadata": {
    "colab": {
     "base_uri": "https://localhost:8080/"
    },
    "id": "C5IHxNNg25Eu",
    "outputId": "ac4fe2e8-69fc-4cba-edf9-6fc08b24f058"
   },
   "outputs": [
    {
     "data": {
      "text/plain": [
       "0.8735680911442688"
      ]
     },
     "execution_count": 193,
     "metadata": {},
     "output_type": "execute_result"
    }
   ],
   "source": [
    "# compute weightedPrecision\n",
    "evaluator = evaluator.setMetricName(\"weightedPrecision\")\n",
    "evaluator.evaluate(predictions)"
   ]
  },
  {
   "cell_type": "code",
   "execution_count": null,
   "metadata": {
    "colab": {
     "base_uri": "https://localhost:8080/"
    },
    "id": "EyqBTGSQ3UJf",
    "outputId": "2864cba5-b681-45f1-f17b-033ef8e70fa7"
   },
   "outputs": [
    {
     "data": {
      "text/plain": [
       "0.8719046385869054"
      ]
     },
     "execution_count": 183,
     "metadata": {},
     "output_type": "execute_result"
    }
   ],
   "source": [
    "# compute f1 score \n",
    "evaluator = evaluator.setMetricName(\"f1\")\n",
    "evaluator.evaluate(predictions)"
   ]
  },
  {
   "cell_type": "markdown",
   "metadata": {
    "id": "WFrSu1HMrpXg"
   },
   "source": [
    "The model has been improved across all metrics!"
   ]
  }
 ],
 "metadata": {
  "colab": {
   "provenance": []
  },
  "kernelspec": {
   "display_name": "Python 3",
   "language": "python",
   "name": "python3"
  },
  "language_info": {
   "codemirror_mode": {
    "name": "ipython",
    "version": 3
   },
   "file_extension": ".py",
   "mimetype": "text/x-python",
   "name": "python",
   "nbconvert_exporter": "python",
   "pygments_lexer": "ipython3",
   "version": "3.8.5"
  }
 },
 "nbformat": 4,
 "nbformat_minor": 1
}
